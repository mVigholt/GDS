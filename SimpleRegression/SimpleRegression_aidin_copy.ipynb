{
 "cells": [
  {
   "cell_type": "code",
   "execution_count": 2,
   "metadata": {},
   "outputs": [],
   "source": [
    "import pandas as pd\n",
    "import numpy as np\n",
    "from collections import Counter\n",
    "from sklearn.model_selection import train_test_split"
   ]
  },
  {
   "cell_type": "code",
   "execution_count": null,
   "metadata": {},
   "outputs": [],
   "source": [
    "dfHead = pd.read_csv('./OLDfinished.csv')\n",
    "df_old_Head = pd.read_csv('../news_sample.csv')\n",
    "# dfHead.head()\n",
    "df_old_Head.head()"
   ]
  },
  {
   "cell_type": "code",
   "execution_count": 3,
   "metadata": {},
   "outputs": [],
   "source": [
    "def XyData(csv_path):\n",
    "    usecols = ['content', 'type']\n",
    "    df = pd.read_csv(csv_path, usecols=usecols)\n",
    "    df.dropna(subset=['type'], inplace = True) #remove empty labels\n",
    "    #df.drop(df[df['type'] == 'unknown'].index, inplace=True) #remove 'unknown' label\n",
    "    df.reset_index(drop=True, inplace=True) #reset index\n",
    "\n",
    "    y = pd.DataFrame({'result' : np.where(df['type'] == 'fake', 1, 0)}) #[1, 0] = [fake, not fake]\n",
    "\n",
    "    unique_words = Counter()\n",
    "    df['content'].str.split().apply(unique_words.update)\n",
    "    unique_words.subtract(unique_words) #keep keys, reset count\n",
    " \n",
    "    frames = []  \n",
    "    for row in range(len(df)):\n",
    "        words = unique_words.copy()\n",
    "        words.update(df.loc[row,\"content\"].split())\n",
    "        frames += [pd.DataFrame(words, index=[row])]\n",
    "    X = pd.concat(frames)\n",
    "         \n",
    "    X.to_csv('X.csv', index=False)\n",
    "    y.to_csv('y.csv', index=False)\n",
    "\n",
    "#XyData('..\\\\finished.csv')\n",
    "XyData('OLDfinished.csv')"
   ]
  },
  {
   "cell_type": "code",
   "execution_count": 5,
   "metadata": {},
   "outputs": [],
   "source": [
    "def Split(X_path, y_path):\n",
    "    df_X = pd.read_csv(X_path)\n",
    "    df_y = pd.read_csv(y_path)\n",
    "    X_train, X_test, y_train, y_test = train_test_split(df_X,\n",
    "                                                        df_y,\n",
    "                                                        train_size = 0.8,\n",
    "                                                        random_state = 1,#0,\n",
    "                                                        shuffle = True,#False,\n",
    "                                                        stratify = None)\n",
    "\n",
    "    X_test, X_val, y_test, y_val = train_test_split(X_test,\n",
    "                                                    y_test,\n",
    "                                                    test_size= 0.5,\n",
    "                                                    random_state = 1,#0,\n",
    "                                                    shuffle = True,#False,\n",
    "                                                    stratify = None)\n",
    "\n",
    "    return X_train, X_test, X_val, y_train, y_test, y_val\n",
    "X_train, X_test, X_val, y_train, y_test, y_val = Split('X.csv', 'y.csv')"
   ]
  },
  {
   "cell_type": "code",
   "execution_count": 6,
   "metadata": {},
   "outputs": [
    {
     "name": "stdout",
     "output_type": "stream",
     "text": [
      "LinearRegression MSE:  0.20833333333333334\n",
      "LinearRegression accuracy:  0.7916666666666666\n"
     ]
    }
   ],
   "source": [
    "from sklearn.linear_model import LinearRegression\n",
    "from sklearn.metrics import mean_squared_error\n",
    "from sklearn.metrics import accuracy_score\n",
    "\n",
    "model = LinearRegression()\n",
    "fit = model.fit(X_train, y_train['result'])\n",
    "y_pred = fit.predict(X_test)\n",
    "y_pred = [round(x,0) for x in y_pred]\n",
    "\n",
    "mse = mean_squared_error(y_test['result'], y_pred)\n",
    "print(\"LinearRegression MSE: \", mse)\n",
    "acc = accuracy_score(y_test['result'], y_pred)\n",
    "print(\"LinearRegression accuracy: \", acc)"
   ]
  },
  {
   "cell_type": "code",
   "execution_count": 7,
   "metadata": {},
   "outputs": [
    {
     "name": "stdout",
     "output_type": "stream",
     "text": [
      "Logisticegression MSE:  0.125\n",
      "LogisticRegression accuracy:  0.875\n"
     ]
    }
   ],
   "source": [
    "from sklearn.linear_model import LogisticRegression\n",
    "from sklearn.metrics import mean_squared_error\n",
    "from sklearn.metrics import accuracy_score\n",
    "\n",
    "model = LogisticRegression(random_state=0, max_iter=1000)\n",
    "fit = model.fit(X_train, y_train['result'])\n",
    "y_pred = fit.predict(X_test)\n",
    "y_pred = [round(x,0) for x in y_pred]\n",
    "\n",
    "mse = mean_squared_error(y_test['result'], y_pred)\n",
    "print(\"Logisticegression MSE: \", mse)\n",
    "acc = accuracy_score(y_test['result'], y_pred)\n",
    "print(\"LogisticRegression accuracy: \", acc)"
   ]
  },
  {
   "cell_type": "code",
   "execution_count": 8,
   "metadata": {},
   "outputs": [
    {
     "name": "stdout",
     "output_type": "stream",
     "text": [
      "0.6666666666666666\n"
     ]
    }
   ],
   "source": [
    "c = Counter()\n",
    "c.update(y_test['result'])\n",
    "print(c[1]/(c[1]+c[0]))"
   ]
  }
 ],
 "metadata": {
  "kernelspec": {
   "display_name": "ex1",
   "language": "python",
   "name": "python3"
  },
  "language_info": {
   "codemirror_mode": {
    "name": "ipython",
    "version": 3
   },
   "file_extension": ".py",
   "mimetype": "text/x-python",
   "name": "python",
   "nbconvert_exporter": "python",
   "pygments_lexer": "ipython3",
   "version": "3.11.7"
  }
 },
 "nbformat": 4,
 "nbformat_minor": 2
}
