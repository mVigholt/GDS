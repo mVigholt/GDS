{
 "cells": [
  {
   "cell_type": "code",
   "execution_count": null,
   "metadata": {},
   "outputs": [],
   "source": [
    "import pandas as pd\n",
    "import numpy as np\n",
    "from collections import Counter\n",
    "from sklearn.model_selection import train_test_split"
   ]
  },
  {
   "cell_type": "code",
   "execution_count": null,
   "metadata": {},
   "outputs": [],
   "source": [
    "def XyData(csv_path, X_path, y_path):\n",
    "    usecols = ['content', 'type']\n",
    "    df = pd.read_csv(csv_path, usecols=usecols)\n",
    "    \n",
    "    df.dropna(subset=['type'], inplace = True) #remove empty labels\n",
    "    df = df.loc[df.content.apply(type) == str]\n",
    "    #df.drop(df[df['type'] == 'unknown'].index, inplace=True) #remove 'unknown' label\n",
    "    df.reset_index(drop=True, inplace=True) #reset index\n",
    "\n",
    "    l = ['fake']\n",
    "    y = pd.DataFrame({'result' : np.where(df['type'].isin(l), 1, 0)}) #[1, 0] = [fake, not fake]\n",
    "\n",
    "    unique_words = Counter()\n",
    "    df['content'].str.split().apply(unique_words.update)\n",
    "    unique_words.subtract(unique_words) #keep keys, reset count\n",
    " \n",
    "    frames = []  \n",
    "    for row in range(len(df)):\n",
    "        words = unique_words.copy()\n",
    "        words.update(df.loc[row,\"content\"].split())\n",
    "        frames += [pd.DataFrame(words, index=[row])]\n",
    "    X = pd.concat(frames)\n",
    "         \n",
    "    X.to_csv(X_path, index=False)\n",
    "    y.to_csv(y_path, index=False)\n",
    "\n",
    "XyData('..\\\\data\\\\clean_995,000_rows.csv', 'X_995k.csv', 'y_995k.csv')\n",
    "#XyData('..\\\\cleaned_news_sample.csv', 'X.csv', 'y.csv')"
   ]
  },
  {
   "cell_type": "code",
   "execution_count": null,
   "metadata": {},
   "outputs": [],
   "source": [
    "def Split(X_path, y_path):\n",
    "    df_X = pd.read_csv(X_path)\n",
    "    df_y = pd.read_csv(y_path)\n",
    "    X_train, X_test, y_train, y_test = train_test_split(df_X,\n",
    "                                                        df_y,\n",
    "                                                        train_size = 0.8,\n",
    "                                                        random_state = 0,\n",
    "                                                        shuffle = False,\n",
    "                                                        stratify = None)\n",
    "\n",
    "    X_test, X_val, y_test, y_val = train_test_split(X_test,\n",
    "                                                    y_test,\n",
    "                                                    test_size= 0.5,\n",
    "                                                    random_state = 0,\n",
    "                                                    shuffle = False,\n",
    "                                                    stratify = None)\n",
    "\n",
    "    return X_train, X_test, X_val, y_train, y_test, y_val\n",
    "X_train, X_test, X_val, y_train, y_test, y_val = Split('X.csv', 'y.csv')"
   ]
  },
  {
   "cell_type": "code",
   "execution_count": null,
   "metadata": {},
   "outputs": [],
   "source": [
    "from sklearn.linear_model import LinearRegression\n",
    "from sklearn.metrics import mean_squared_error\n",
    "from sklearn.metrics import accuracy_score\n",
    "\n",
    "model = LinearRegression()\n",
    "fit = model.fit(X_train, y_train['label'])\n",
    "y_pred = fit.predict(X_test)\n",
    "y_pred = [round(x,0) for x in y_pred]\n",
    "\n",
    "mse = mean_squared_error(y_test['label'], y_pred)\n",
    "print(\"LinearRegression MSE: \", mse)\n",
    "acc = accuracy_score(y_test['label'], y_pred)\n",
    "print(\"LinearRegression accuracy: \", acc)"
   ]
  },
  {
   "cell_type": "code",
   "execution_count": null,
   "metadata": {},
   "outputs": [],
   "source": [
    "from sklearn.linear_model import LogisticRegression\n",
    "from sklearn.metrics import mean_squared_error\n",
    "from sklearn.metrics import accuracy_score\n",
    "\n",
    "model = LogisticRegression(random_state=0, max_iter=1000)\n",
    "fit = model.fit(X_train, y_train['label'])\n",
    "y_pred = fit.predict(X_test)\n",
    "y_pred = [round(x,0) for x in y_pred]\n",
    "\n",
    "mse = mean_squared_error(y_test['label'], y_pred)\n",
    "print(\"LinearRegression MSE: \", mse)\n",
    "acc = accuracy_score(y_test['label'], y_pred)\n",
    "print(\"LinearRegression accuracy: \", acc)"
   ]
  },
  {
   "cell_type": "code",
   "execution_count": null,
   "metadata": {},
   "outputs": [],
   "source": [
    "from sklearn.svm import SVC \n",
    "from sklearn.pipeline import make_pipeline\n",
    "from sklearn.preprocessing import StandardScaler\n",
    "from sklearn.metrics import mean_squared_error\n",
    "from sklearn.metrics import accuracy_score\n",
    "\n",
    "clf = make_pipeline(StandardScaler(), SVC(gamma='auto'))\n",
    "clf.fit(X_train, y_train['label'])\n",
    "y_pred = clf.predict(X_test)\n",
    "\n",
    "mse = mean_squared_error(y_test['label'], y_pred)\n",
    "print(\"LinearRegression MSE: \", mse)\n",
    "acc = accuracy_score(y_test['label'], y_pred)\n",
    "print(\"LinearRegression accuracy: \", acc)"
   ]
  },
  {
   "cell_type": "code",
   "execution_count": null,
   "metadata": {},
   "outputs": [],
   "source": [
    "y = pd.read_csv('y_955K.csv')\n",
    "c = Counter()\n",
    "c.update(y_test['label'])\n",
    "print(c[1]/(c[1]+c[0]))"
   ]
  }
 ],
 "metadata": {
  "kernelspec": {
   "display_name": "ex1",
   "language": "python",
   "name": "python3"
  },
  "language_info": {
   "codemirror_mode": {
    "name": "ipython",
    "version": 3
   },
   "file_extension": ".py",
   "mimetype": "text/x-python",
   "name": "python",
   "nbconvert_exporter": "python",
   "pygments_lexer": "ipython3",
   "version": "3.11.8"
  }
 },
 "nbformat": 4,
 "nbformat_minor": 2
}
