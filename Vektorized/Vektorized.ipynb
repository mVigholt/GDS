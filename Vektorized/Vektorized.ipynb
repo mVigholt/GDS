{
 "cells": [
  {
   "cell_type": "code",
   "execution_count": 198,
   "metadata": {},
   "outputs": [],
   "source": [
    "import pandas as pd\n",
    "import numpy as np\n",
    "from sklearn.feature_extraction.text import TfidfVectorizer\n",
    "from sklearn.linear_model import PassiveAggressiveClassifier\n",
    "from sklearn.svm import LinearSVC, SVC\n",
    "from sklearn.model_selection import train_test_split, cross_val_score\n",
    "from sklearn.metrics import accuracy_score, confusion_matrix\n",
    "from sklearn.compose import make_column_transformer"
   ]
  },
  {
   "cell_type": "markdown",
   "metadata": {},
   "source": [
    "## Label types:\n",
    "https://github.com/several27/FakeNewsCorpus/blob/v1.0/README.md \\\n",
    "https://www.rand.org/research/projects/truth-decay/fighting-disinformation/search/items/opensources.html\n",
    "- Fake:                    \n",
    "    - Sources that entirely fabricate information, disseminate deceptive content, or grossly distort actual news reports\n",
    "- Satire:   \n",
    "    - Sources that use humor, irony, exaggeration, ridicule, and false information to comment on current events.\n",
    "- Bias:       \n",
    "    - Sources that come from a particular point of view and may rely on propaganda, decontextualized information, and opinions distorted as facts.\n",
    "- Conspiracy:  \n",
    "    - Sources that are well-known promoters of kooky conspiracy theories.\n",
    "- Rumor:\n",
    "    - ???\n",
    "- State News:           state\t    \n",
    "    - Sources in repressive states operating under government sanction.\n",
    "- Junksci:\t    \n",
    "    - Sources that promote pseudoscience, metaphysics, naturalistic fallacies, and other scientifically dubious claims.\n",
    "- Hate:        \n",
    "    - Sources that actively promote racism, misogyny, homophobia, and other forms of discrimination.\n",
    "- Clickbait:   \n",
    "    - Sources that provide generally credible content, but use exaggerated, misleading, or questionable headlines, social media descriptions, and/or images.\n",
    "- Unreliable:  \n",
    "    - Sources that may be reliable but whose contents require further verification.\n",
    "- Political:   \n",
    "    - Sources that provide generally verifiable information in support of certain points of view or political orientations.\n",
    "- Reliable:    \n",
    "    - Sources that circulate news and information in a manner consistent with traditional and ethical practices in journalism (Remember: even credible sources sometimes rely on clickbait-style headlines or occasionally make mistakes. No news organization is perfect, which is why a healthy news diet consists of multiple sources of information)."
   ]
  },
  {
   "cell_type": "code",
   "execution_count": 199,
   "metadata": {},
   "outputs": [],
   "source": [
    "# 1 = fake groupe\n",
    "# 0 = not fake groupe\n",
    "type_dict = {'fake'         : '1',\n",
    "             'satire'       : '1',\n",
    "             'bias'         : '1',\n",
    "             'conspiracy'   : '1',\n",
    "             'rumor'        : '1',\n",
    "             'state'        : '0',\n",
    "             'junksci'      : '1', \n",
    "             'hate'         : '1',\n",
    "             'clickbait'    : '0',\n",
    "             'unreliable'   : '0',\n",
    "             'political'    : '0',\n",
    "             'reliable'     : '0'}"
   ]
  },
  {
   "cell_type": "code",
   "execution_count": 200,
   "metadata": {},
   "outputs": [],
   "source": [
    "def CountAndPrintTypes():\n",
    "    df = pd.read_csv('..\\\\data\\\\995,000_rows.csv') \n",
    "    df.type.value_counts()\n",
    "\n",
    "# CountAndPrintTypes()"
   ]
  },
  {
   "cell_type": "code",
   "execution_count": 201,
   "metadata": {},
   "outputs": [
    {
     "name": "stderr",
     "output_type": "stream",
     "text": [
      "C:\\Users\\Martin\\AppData\\Local\\Temp\\ipykernel_11416\\470330452.py:2: DtypeWarning: Columns (0,1) have mixed types. Specify dtype option on import or set low_memory=False.\n",
      "  df = pd.read_csv(input)\n"
     ]
    }
   ],
   "source": [
    "def RemoveUnknownTypes(input, trash_out, output):\n",
    "    df = pd.read_csv(input)\n",
    "    indexes = []\n",
    "    rows = []\n",
    "    for i in range(len(df)):\n",
    "        if not (df.loc[i, \"type\"] in type_dict.keys()):\n",
    "            indexes += [i]\n",
    "            rows += [df.loc[i]]\n",
    "            \n",
    "    trash = pd.DataFrame(rows)\n",
    "    trash.to_csv(trash_out, index=False)\n",
    "    \n",
    "    df.drop(index=indexes, inplace=True)\n",
    "    df.reset_index(drop=True, inplace=True)\n",
    "    df.to_csv(output, index=False)\n",
    "    \n",
    "RemoveUnknownTypes('..\\\\data\\\\995,000_rows.csv', '..\\\\data\\\\trash.csv',  '..\\\\data\\\\995,000_rows-trash.csv')"
   ]
  },
  {
   "cell_type": "code",
   "execution_count": 206,
   "metadata": {},
   "outputs": [],
   "source": [
    "def XyData(csv_path, X_path, y_path):\n",
    "    #usecols = ['type', 'domain', 'url','authors', 'title','content']\n",
    "    usecols = ['type', 'url', 'content']\n",
    "    df = pd.read_csv(csv_path, usecols=usecols)\n",
    "    \n",
    "    df.dropna(subset=['content'], inplace=True) #remove articles without content\n",
    "    df.reset_index(drop=True, inplace=True) #reset index\n",
    "    \n",
    "    y = pd.DataFrame(df['type'].replace(type_dict))\n",
    "    \n",
    "    # f = lambda x : 'FilledIn' if x == True else 'Empty'\n",
    "    # df['domain'] = df['domain'].notna().apply(f)\n",
    "    # df['url'] = df['url'].notna().apply(f)\n",
    "    # df['authors'] = df['authors'].notna().apply(f)\n",
    "    # df['title'] = df['title'].notna().apply(f)\n",
    "    \n",
    "    df['url'].fillna(value = '')\n",
    "    df.drop(columns=['type'], inplace=True)\n",
    "    \n",
    "    X = df\n",
    "         \n",
    "    X.to_csv(X_path, index=False) \n",
    "    y.to_csv(y_path, index=False)\n",
    "\n",
    "XyData('..\\\\data\\\\995,000_rows-trash.csv', '..\\\\data\\\\X_995k.csv', '..\\\\data\\\\y_995k.csv')"
   ]
  },
  {
   "cell_type": "code",
   "execution_count": 207,
   "metadata": {},
   "outputs": [],
   "source": [
    "def Split(X_path, y_path):\n",
    "    df_X = pd.read_csv(X_path)\n",
    "    df_y = pd.read_csv(y_path)\n",
    "    X_train, X_test, y_train, y_test = train_test_split(df_X,\n",
    "                                                        df_y,\n",
    "                                                        train_size = 0.8,\n",
    "                                                        random_state = 33,\n",
    "                                                        shuffle = True)\n",
    "\n",
    "    X_test, X_val, y_test, y_val = train_test_split(X_test,\n",
    "                                                    y_test,\n",
    "                                                    test_size= 0.5,\n",
    "                                                    random_state = 9,\n",
    "                                                    shuffle = True)\n",
    "\n",
    "    return X_train, X_test, X_val, y_train, y_test, y_val\n",
    "\n",
    "X_train, X_test, X_val, y_train, y_test, y_val = Split('..\\\\data\\\\X_995k.csv', '..\\\\data\\\\y_995k.csv')"
   ]
  },
  {
   "cell_type": "code",
   "execution_count": 208,
   "metadata": {},
   "outputs": [],
   "source": [
    "def vevectorizer(train, test, val):\n",
    "    vectorizer = TfidfVectorizer(stop_words='english', max_df=0.75)\n",
    "    tf_vectorizer = TfidfVectorizer()\n",
    "\n",
    "    # col_vectorizer = make_column_transformer((vectorizer, 'content'),\n",
    "    #                                          (tf_vectorizer, 'domain'),\n",
    "    #                                          (tf_vectorizer, 'url'),\n",
    "    #                                          (tf_vectorizer, 'authors'),\n",
    "    #                                          (tf_vectorizer, 'title'))\n",
    "    \n",
    "    col_vectorizer = make_column_transformer((vectorizer, 'content'),\n",
    "                                             (vectorizer, 'url'))\n",
    "\n",
    "    X_train_vec = col_vectorizer.fit_transform(train)\n",
    "    X_test_vec = col_vectorizer.transform(test)\n",
    "    X_val_vec = col_vectorizer.transform(val)\n",
    "    \n",
    "    return X_train_vec, X_test_vec, X_val_vec\n",
    "\n",
    "X_train_vec, X_test_vec, X_val_vec = vevectorizer(X_train, X_test, X_val)"
   ]
  },
  {
   "cell_type": "code",
   "execution_count": 209,
   "metadata": {},
   "outputs": [
    {
     "name": "stdout",
     "output_type": "stream",
     "text": [
      "Accuracy: 0.999933604815864\n"
     ]
    }
   ],
   "source": [
    "model = LinearSVC(max_iter=1000, dual='auto')\n",
    "model.fit(X_train_vec, y_train.type)\n",
    "\n",
    "#model.score(X_test_vec, y_test)\n",
    "\n",
    "y_pred = model.predict(X_test_vec)\n",
    "score = accuracy_score(y_test,y_pred)\n",
    "print(f'Accuracy: {score}')"
   ]
  },
  {
   "cell_type": "code",
   "execution_count": 210,
   "metadata": {},
   "outputs": [
    {
     "data": {
      "text/plain": [
       "0.999900407223796"
      ]
     },
     "execution_count": 210,
     "metadata": {},
     "output_type": "execute_result"
    }
   ],
   "source": [
    "model.score(X_val_vec, y_val)"
   ]
  },
  {
   "cell_type": "code",
   "execution_count": 211,
   "metadata": {},
   "outputs": [],
   "source": [
    "# confusion_matrix(y_test,y_pred, labels=[1,0])"
   ]
  },
  {
   "cell_type": "code",
   "execution_count": 212,
   "metadata": {},
   "outputs": [],
   "source": [
    "#=======================================================\n",
    "#K-fold\n",
    "#=======================================================\n",
    "\n",
    "# df_X = pd.read_csv(..\\\\data\\\\X_995k.csv) \n",
    "# df_y = pd.read_csv(..\\\\data\\\\X_995k.csv)\n",
    "\n",
    "# X = vectorizer.transform(df_X.content)\n",
    "# y = df_y.type.values\n",
    "\n",
    "# scores = cross_val_score(model, X, y, cv=5)\n",
    "# print(f'K Fold Accuracy: {score}%')"
   ]
  },
  {
   "cell_type": "code",
   "execution_count": 213,
   "metadata": {},
   "outputs": [],
   "source": [
    "# import pickle\n",
    "# filename = 'finalized_model.sav'\n",
    "# pickle.dump(model, open(filename, 'wb'))\n",
    "# # some time later...\n",
    "# loaded_model = pickle.load(open(filename, 'rb'))\n",
    "# loaded_model.score(X_test_vec, y_test)\n",
    "\n",
    "\n",
    "# import joblib\n",
    "# filename = 'finalized_model.sav'\n",
    "# joblib.dump(model, filename)\n",
    "# # some time later...\n",
    "# loaded_model = joblib.load(filename)\n",
    "# loaded_model.score(X_test_vec, y_test)"
   ]
  },
  {
   "cell_type": "code",
   "execution_count": 214,
   "metadata": {},
   "outputs": [],
   "source": [
    "# model = PassiveAggressiveClassifier(max_iter=100)\n",
    "# model.fit(X_train_vec, y_train)\n",
    "\n",
    "# #model.score(X_test_vec, y_test)\n",
    "\n",
    "# y_pred = model.predict(X_test_vec)\n",
    "# score = accuracy_score(y_test,y_pred)\n",
    "# print(f'Accuracy: {score}')"
   ]
  }
 ],
 "metadata": {
  "kernelspec": {
   "display_name": "GDS_E",
   "language": "python",
   "name": "python3"
  },
  "language_info": {
   "codemirror_mode": {
    "name": "ipython",
    "version": 3
   },
   "file_extension": ".py",
   "mimetype": "text/x-python",
   "name": "python",
   "nbconvert_exporter": "python",
   "pygments_lexer": "ipython3",
   "version": "3.11.8"
  }
 },
 "nbformat": 4,
 "nbformat_minor": 2
}
