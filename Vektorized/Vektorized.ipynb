{
 "cells": [
  {
   "cell_type": "code",
   "execution_count": null,
   "metadata": {},
   "outputs": [],
   "source": [
    "import pandas as pd\n",
    "import numpy as np\n",
    "from sklearn.feature_extraction.text import TfidfVectorizer\n",
    "from sklearn.linear_model import PassiveAggressiveClassifier\n",
    "from sklearn.svm import LinearSVC\n",
    "from sklearn.model_selection import train_test_split, cross_val_score\n",
    "from sklearn.metrics import accuracy_score, confusion_matrix"
   ]
  },
  {
   "cell_type": "code",
   "execution_count": null,
   "metadata": {},
   "outputs": [],
   "source": [
    "#================================================\n",
    "# Count and print types:\n",
    "#================================================\n",
    "\n",
    "# df=pd.read_csv('..\\\\data\\\\995,000_rows.csv') \n",
    "# df.type.value_counts()"
   ]
  },
  {
   "cell_type": "code",
   "execution_count": null,
   "metadata": {},
   "outputs": [],
   "source": [
    "#================================================\n",
    "# Remove borken row\n",
    "#================================================\n",
    "\n",
    "# df=pd.read_csv('..\\\\data\\\\995,000_rows.csv')\n",
    "\n",
    "#-----------------------------------------------\n",
    "# Find broken row\n",
    "#-----------------------------------------------\n",
    "# row = 0\n",
    "# for i in range(len(df)):\n",
    "#     if df.loc[i, \"type\"] == '2018-02-10 13:43:39.521661' :\n",
    "#         row = i\n",
    "#         break\n",
    "   \n",
    "#-----------------------------------------------\n",
    "# Save broken row\n",
    "#----------------------------------------------- \n",
    "# row = 908192\n",
    "# the1 = df.iloc[[row]]\n",
    "# the1.to_csv('data\\\\the1.csv', index=False)\n",
    "\n",
    "#-----------------------------------------------\n",
    "# Save everything but broken row\n",
    "#----------------------------------------------- \n",
    "# df.drop(index=row, inplace=True)\n",
    "# df.reset_index(drop=True, inplace=True)\n",
    "# df.to_csv('..\\\\data\\\\995,000_rows-1.csv', index=False)"
   ]
  },
  {
   "cell_type": "code",
   "execution_count": null,
   "metadata": {},
   "outputs": [],
   "source": [
    "def XyData(csv_path, X_path, y_path):\n",
    "    usecols = ['content', 'type']\n",
    "    df = pd.read_csv(csv_path, usecols=usecols)\n",
    "    \n",
    "    df.dropna(subset=usecols, inplace=True) #remove rows with empty cells\n",
    "    df.drop(df[df['type'] == 'unknown'].index, inplace=True) #remove 'unknown' label\n",
    "    df.reset_index(drop=True, inplace=True) #reset index\n",
    "    \n",
    "    replacement = {'reliable'   : 0,\n",
    "                   'political'  : 0,\n",
    "                   'bias'       : 1,\n",
    "                   'fake'       : 1,\n",
    "                   'conspiracy' : 1,\n",
    "                   'rumor'      : 1,\n",
    "                   'unknown'    : 1,\n",
    "                   'unreliable' : 1,\n",
    "                   'clickbait'  : 1,\n",
    "                   'junksci'    : 1, \n",
    "                   'satire'     : 1,\n",
    "                   'hate'       : 1}\n",
    "    y = pd.DataFrame(df['type'].replace(replacement))\n",
    "\n",
    "    X = pd.DataFrame(df.content)    \n",
    "         \n",
    "    X.to_csv(X_path, index=False)\n",
    "    y.to_csv(y_path, index=False)\n",
    "\n",
    "# XyData('..\\\\news_sample.csv', 'X.csv', 'y.csv')\n",
    "XyData('..\\\\data\\\\995,000_rows-1.csv', '..\\\\data\\\\X_995k.csv', '..\\\\data\\\\y_995k.csv')"
   ]
  },
  {
   "cell_type": "code",
   "execution_count": null,
   "metadata": {},
   "outputs": [],
   "source": [
    "def Split(X_path, y_path):\n",
    "    df_X = pd.read_csv(X_path)\n",
    "    df_y = pd.read_csv(y_path)\n",
    "    X_train, X_test, y_train, y_test = train_test_split(df_X.content,\n",
    "                                                        df_y.type,\n",
    "                                                        train_size = 0.8,\n",
    "                                                        random_state = 5,\n",
    "                                                        shuffle = True)\n",
    "\n",
    "    X_test, X_val, y_test, y_val = train_test_split(X_test,\n",
    "                                                    y_test,\n",
    "                                                    test_size= 0.5,\n",
    "                                                    random_state = 5,\n",
    "                                                    shuffle = True)\n",
    "\n",
    "    return X_train, X_test, X_val, y_train, y_test, y_val\n",
    "# X_train, X_test, X_val, y_train, y_test, y_val = Split('X.csv', 'y.csv')\n",
    "X_train, X_test, X_val, y_train, y_test, y_val = Split('..\\\\data\\\\X_995k.csv', '..\\\\data\\\\y_995k.csv')"
   ]
  },
  {
   "cell_type": "code",
   "execution_count": null,
   "metadata": {},
   "outputs": [],
   "source": [
    "vectorizer = TfidfVectorizer(stop_words='english', max_df=0.75)\n",
    "\n",
    "X_train_vec = vectorizer.fit_transform(X_train)\n",
    "\n",
    "X_test_vec = vectorizer.transform(X_test)"
   ]
  },
  {
   "cell_type": "code",
   "execution_count": null,
   "metadata": {},
   "outputs": [],
   "source": [
    "model = PassiveAggressiveClassifier(max_iter=100)\n",
    "model.fit(X_train_vec, y_train)\n",
    "\n",
    "#model.score(X_test_vec, y_test)\n",
    "\n",
    "y_pred = model.predict(X_test_vec)\n",
    "score = accuracy_score(y_test,y_pred)\n",
    "print(f'Accuracy: {score}%')"
   ]
  },
  {
   "cell_type": "code",
   "execution_count": null,
   "metadata": {},
   "outputs": [],
   "source": [
    "model = LinearSVC(max_iter=100)\n",
    "model.fit(X_train_vec, y_train)\n",
    "\n",
    "#model.score(X_test_vec, y_test)\n",
    "\n",
    "y_pred = model.predict(X_test_vec)\n",
    "score = accuracy_score(y_test,y_pred)\n",
    "print(f'Accuracy: {score}%')"
   ]
  },
  {
   "cell_type": "code",
   "execution_count": null,
   "metadata": {},
   "outputs": [],
   "source": [
    "# confusion_matrix(y_test,y_pred, labels=['1','0'])"
   ]
  },
  {
   "cell_type": "code",
   "execution_count": null,
   "metadata": {},
   "outputs": [],
   "source": [
    "# df_X = pd.read_csv(..\\\\data\\\\X_995k.csv) \n",
    "# df_y = pd.read_csv(..\\\\data\\\\X_995k.csv)\n",
    "\n",
    "# X = vectorizer.transform(df_X.content)\n",
    "# y = df_y.type.values\n",
    "\n",
    "# scores = cross_val_score(model, X, y, cv=5)\n",
    "# print(f'K Fold Accuracy: {score}%')"
   ]
  }
 ],
 "metadata": {
  "kernelspec": {
   "display_name": "GDS_E",
   "language": "python",
   "name": "python3"
  },
  "language_info": {
   "codemirror_mode": {
    "name": "ipython",
    "version": 3
   },
   "file_extension": ".py",
   "mimetype": "text/x-python",
   "name": "python",
   "nbconvert_exporter": "python",
   "pygments_lexer": "ipython3",
   "version": "3.11.8"
  }
 },
 "nbformat": 4,
 "nbformat_minor": 2
}
