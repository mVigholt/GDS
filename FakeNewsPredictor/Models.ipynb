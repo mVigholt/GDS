{
 "cells": [
  {
   "cell_type": "code",
   "execution_count": null,
   "metadata": {},
   "outputs": [],
   "source": [
    "import pandas as pd\n",
    "from sklearn.svm import LinearSVC\n",
    "from sklearn.model_selection import KFold\n",
    "from sklearn.pipeline import make_pipeline\n",
    "from sklearn.metrics import confusion_matrix\n",
    "from sklearn.preprocessing import StandardScaler\n",
    "from sklearn.model_selection import cross_val_score\n",
    "from sklearn.linear_model import LogisticRegression\n",
    "from sklearn.compose import make_column_transformer\n",
    "from sklearn.feature_extraction.text import TfidfVectorizer\n",
    "from sklearn.feature_extraction.text import CountVectorizer"
   ]
  },
  {
   "cell_type": "markdown",
   "metadata": {},
   "source": [
    "## Choose model, and data to test against"
   ]
  },
  {
   "cell_type": "code",
   "execution_count": null,
   "metadata": {},
   "outputs": [],
   "source": [
    "models = ['Simple','Advansed']\n",
    "data = ['FakeNews', 'Liar'] \n",
    "\n",
    "model = models[1]\n",
    "test = data[0]"
   ]
  },
  {
   "cell_type": "markdown",
   "metadata": {},
   "source": [
    "## Load data"
   ]
  },
  {
   "cell_type": "code",
   "execution_count": null,
   "metadata": {},
   "outputs": [],
   "source": [
    "X_train = pd.read_csv('files\\\\X_train.csv')\n",
    "X_test = pd.read_csv('files\\\\X_test.csv')\n",
    "X_val = pd.read_csv('files\\\\X_val.csv')   \n",
    "y_train = pd.read_csv('files\\\\y_train.csv') \n",
    "y_test = pd.read_csv('files\\\\y_test.csv')  \n",
    "y_val = pd.read_csv('files\\\\y_val.csv')   \n",
    "X_liar = pd.read_csv('files\\\\X_liar.csv') \n",
    "y_liar = pd.read_csv('files\\\\y_liar.csv') "
   ]
  },
  {
   "cell_type": "markdown",
   "metadata": {},
   "source": [
    "## Vectorize the chosen prediction data "
   ]
  },
  {
   "cell_type": "code",
   "execution_count": null,
   "metadata": {},
   "outputs": [],
   "source": [
    "def Vectorizer(train, test, val, liar):\n",
    "    if model == models[0]:\n",
    "        vectorizer = CountVectorizer(stop_words='english', max_df=0.75, max_features=1000)\n",
    "    else:\n",
    "        vectorizer = TfidfVectorizer(stop_words='english', max_df=0.75)\n",
    "        \n",
    "    col_vectorizer = make_column_transformer((vectorizer, 'content'),\n",
    "                                             remainder='drop')\n",
    "\n",
    "    X_train_vec = col_vectorizer.fit_transform(train)\n",
    "    X_test_vec = col_vectorizer.transform(test)\n",
    "    X_val_vec = col_vectorizer.transform(val)\n",
    "    X_liar_vec = col_vectorizer.transform(liar)\n",
    "    \n",
    "    return X_train_vec, X_test_vec, X_val_vec, X_liar_vec\n",
    "\n",
    "X_train_vec, X_test_vec, X_val_vec, X_liar_vec = Vectorizer(X_train, X_test, X_val, X_liar)"
   ]
  },
  {
   "cell_type": "markdown",
   "metadata": {},
   "source": [
    "## Models"
   ]
  },
  {
   "cell_type": "code",
   "execution_count": null,
   "metadata": {},
   "outputs": [],
   "source": [
    "def SimpelModel():\n",
    "    model = LogisticRegression(random_state=0, max_iter=1000)\n",
    "    pipeline = make_pipeline(StandardScaler(with_mean=False, with_std=False), model)\n",
    "    return pipeline\n",
    "\n",
    "def AdvancedModel():\n",
    "    model = LinearSVC(max_iter=1000, dual='auto')\n",
    "    return model"
   ]
  },
  {
   "cell_type": "markdown",
   "metadata": {},
   "source": [
    "## Train model"
   ]
  },
  {
   "cell_type": "code",
   "execution_count": null,
   "metadata": {},
   "outputs": [],
   "source": [
    "def TrainModel(X, y):\n",
    "    if model == models[0]:\n",
    "        return SimpelModel().fit(X, y.type)\n",
    "    else:\n",
    "        return AdvancedModel().fit(X, y.type)\n",
    "\n",
    "trained_model = TrainModel(X_train_vec, y_train)"
   ]
  },
  {
   "cell_type": "markdown",
   "metadata": {},
   "source": [
    "## Predict and test score"
   ]
  },
  {
   "cell_type": "code",
   "execution_count": null,
   "metadata": {},
   "outputs": [],
   "source": [
    "def Predict(model, X_data):\n",
    "    y_pred = model.predict(X_data)   \n",
    "    return y_pred\n",
    "\n",
    "def ConfMatrix(y_data, y_pred):\n",
    "    matrix = confusion_matrix(y_data,y_pred, labels=[1,0])\n",
    "    TP = matrix[0][0]\n",
    "    TN = matrix[1][1]\n",
    "    FP = matrix[1][0]\n",
    "    FN = matrix[0][1]\n",
    "    print(f'Confusion matrix:\\n {matrix}')\n",
    "    print('\\n')\n",
    "    print(f'TP: {TP}')\n",
    "    print(f'TN: {TN}')\n",
    "    print(f'FP: {FP}')\n",
    "    print(f'FN: {FN}')\n",
    "    print('\\n')\n",
    "    return TP, TN, FP, FN\n",
    "\n",
    "def Score(TP, TN, FP, FN):\n",
    "    accuracy = (TP + TN) / (TP + TN + FP + FN)\n",
    "    precision = TP / (TP + FP)\n",
    "    recall = TP / (TP + FN)\n",
    "    f1 = 2 * ((precision*recall)/(precision+recall))\n",
    "    print(f'Accuracy: {accuracy}')\n",
    "    print(f'precision: {precision}')\n",
    "    print(f'recall: {recall}')\n",
    "    print(f'F1: {f1}')\n",
    "    \n",
    "def TestModel(model,X_data ,y_data):\n",
    "    y_pred = Predict(model, X_data)\n",
    "    TP, TN, FP, FN = ConfMatrix(y_data, y_pred) \n",
    "    Score(TP, TN, FP, FN)\n",
    "\n",
    "if test == data[0]:\n",
    "    TestModel(trained_model, X_val_vec, y_val)\n",
    "else:\n",
    "    TestModel(trained_model, X_liar_vec, y_liar)"
   ]
  },
  {
   "cell_type": "markdown",
   "metadata": {},
   "source": [
    "## Crossvalidate"
   ]
  },
  {
   "cell_type": "code",
   "execution_count": null,
   "metadata": {},
   "outputs": [],
   "source": [
    "def CrossValidate(model, X_path, y_path):    \n",
    "    df_X = pd.read_csv(X_path) \n",
    "    df_y = pd.read_csv(y_path)\n",
    "\n",
    "    vectorizer = TfidfVectorizer(stop_words='english', max_df=0.75)\n",
    "\n",
    "    col_vectorizer = make_column_transformer((vectorizer, 'content'),\n",
    "                                             remainder='drop')\n",
    "    \n",
    "    pipeline = make_pipeline([col_vectorizer, model])\n",
    "\n",
    "    cv = KFold(n_splits=5, shuffle=True)\n",
    "    score = cross_val_score(pipeline, df_X, df_y.type, cv=cv)\n",
    "\n",
    "    print(f'K Fold Accuracy: {score}%')\n",
    "\n",
    "#CrossValidate('files\\\\X_full.csv', 'files\\\\y_full.csv')"
   ]
  }
 ],
 "metadata": {
  "kernelspec": {
   "display_name": "GDS_E",
   "language": "python",
   "name": "python3"
  },
  "language_info": {
   "codemirror_mode": {
    "name": "ipython",
    "version": 3
   },
   "file_extension": ".py",
   "mimetype": "text/x-python",
   "name": "python",
   "nbconvert_exporter": "python",
   "pygments_lexer": "ipython3",
   "version": "3.11.8"
  }
 },
 "nbformat": 4,
 "nbformat_minor": 2
}
