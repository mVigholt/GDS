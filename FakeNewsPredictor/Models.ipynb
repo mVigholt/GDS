{
 "cells": [
  {
   "cell_type": "code",
   "execution_count": null,
   "metadata": {},
   "outputs": [],
   "source": [
    "import pandas as pd\n",
    "from sklearn.svm import LinearSVC\n",
    "from sklearn.model_selection import KFold\n",
    "from sklearn.pipeline import make_pipeline\n",
    "from sklearn.metrics import confusion_matrix\n",
    "from sklearn.preprocessing import StandardScaler\n",
    "from sklearn.model_selection import cross_val_score\n",
    "from sklearn.linear_model import LogisticRegression\n",
    "from sklearn.compose import make_column_transformer\n",
    "from sklearn.model_selection import train_test_split\n",
    "from sklearn.feature_extraction.text import TfidfVectorizer"
   ]
  },
  {
   "cell_type": "markdown",
   "metadata": {},
   "source": [
    "## Models"
   ]
  },
  {
   "cell_type": "code",
   "execution_count": null,
   "metadata": {},
   "outputs": [],
   "source": [
    "def SimpelModel():\n",
    "    model = LogisticRegression(random_state=0, max_iter=1000)\n",
    "    pipeline = make_pipeline(StandardScaler(with_mean=False, with_std=False), model)\n",
    "    return pipeline\n",
    "\n",
    "def AdvancedModel():\n",
    "    model = LinearSVC(max_iter=1000, dual='auto')\n",
    "    return model"
   ]
  },
  {
   "cell_type": "markdown",
   "metadata": {},
   "source": [
    "## Define path of raw dataset and model below"
   ]
  },
  {
   "cell_type": "code",
   "execution_count": null,
   "metadata": {},
   "outputs": [],
   "source": [
    "fake_news_data = '..\\\\data\\\\995,000_rows.csv'\n",
    "\n",
    "#model = SimpelModel()\n",
    "model = AdvancedModel()\n",
    "\n",
    "liar_data = 'liar_dataset\\\\valid.tsv'"
   ]
  },
  {
   "cell_type": "markdown",
   "metadata": {},
   "source": [
    "## Sort label types:\n",
    "https://github.com/several27/FakeNewsCorpus/blob/v1.0/README.md \\\n",
    "https://www.rand.org/research/projects/truth-decay/fighting-disinformation/search/items/opensources.html\n",
    "- Fake:                    \n",
    "    - Sources that entirely fabricate information, disseminate deceptive content, or grossly distort actual news reports\n",
    "- Satire:   \n",
    "    - Sources that use humor, irony, exaggeration, ridicule, and false information to comment on current events.\n",
    "- Bias:       \n",
    "    - Sources that come from a particular point of view and may rely on propaganda, decontextualized information, and opinions distorted as facts.\n",
    "- Conspiracy:  \n",
    "    - Sources that are well-known promoters of kooky conspiracy theories.\n",
    "- Rumor:\n",
    "    - ???\n",
    "- State News:           state\t    \n",
    "    - Sources in repressive states operating under government sanction.\n",
    "- Junksci:\t    \n",
    "    - Sources that promote pseudoscience, metaphysics, naturalistic fallacies, and other scientifically dubious claims.\n",
    "- Hate:        \n",
    "    - Sources that actively promote racism, misogyny, homophobia, and other forms of discrimination.\n",
    "- Clickbait:   \n",
    "    - Sources that provide generally credible content, but use exaggerated, misleading, or questionable headlines, social media descriptions, and/or images.\n",
    "- Unreliable:  \n",
    "    - Sources that may be reliable but whose contents require further verification.\n",
    "- Political:   \n",
    "    - Sources that provide generally verifiable information in support of certain points of view or political orientations.\n",
    "- Reliable:    \n",
    "    - Sources that circulate news and information in a manner consistent with traditional and ethical practices in journalism (Remember: even credible sources sometimes rely on clickbait-style headlines or occasionally make mistakes. No news organization is perfect, which is why a healthy news diet consists of multiple sources of information).\n",
    "\n",
    "### Based on the label explanations above from the dataset Readme.md, the types are divided into two main groups:\n",
    "- 1 = fake\n",
    "- 0 = not fake"
   ]
  },
  {
   "cell_type": "code",
   "execution_count": null,
   "metadata": {},
   "outputs": [],
   "source": [
    "fake_dict = {'fake'         : '1',\n",
    "             'satire'       : '1',\n",
    "             'bias'         : '1',\n",
    "             'conspiracy'   : '1',\n",
    "             'rumor'        : '1',\n",
    "             'state'        : '0',\n",
    "             'junksci'      : '1', \n",
    "             'hate'         : '1',\n",
    "             'clickbait'    : '0',\n",
    "             'unreliable'   : '0',\n",
    "             'political'    : '0',\n",
    "             'reliable'     : '0'}"
   ]
  },
  {
   "cell_type": "markdown",
   "metadata": {},
   "source": [
    "## Load liar data in same format as FakeNews\n",
    "https://datasets.activeloop.ai/docs/ml/datasets/liar-dataset/"
   ]
  },
  {
   "cell_type": "code",
   "execution_count": null,
   "metadata": {},
   "outputs": [],
   "source": [
    "liar_dict = {'true'         : 0, \n",
    "             'false'        : 1, \n",
    "             'half-true'    : 1, \n",
    "             'pants-fire'   : 1, \n",
    "             'barely-true'  : 0, \n",
    "             'mostly-true'  : 0}\n",
    "\n",
    "def LiarData(csv_path):\n",
    "    df = pd.read_table(csv_path, header=None)\n",
    "    df.rename(columns={1: 'type', 2: 'content'}, inplace=True)\n",
    "    df.drop(columns=[0,3,4,5,6,7,8,9,10,11,12,13], inplace=True)\n",
    "    \n",
    "    df.dropna(subset=['type', 'content'], inplace=True) #remove rows without content or type\n",
    "    df.reset_index(drop=True, inplace=True) #reset index\n",
    "    \n",
    "    y = pd.DataFrame(df['type'].replace(liar_dict))\n",
    "    print(y.type.value_counts())\n",
    "    \n",
    "    df.drop(columns=['type'], inplace=True)\n",
    "    X = df\n",
    "    return X, y\n",
    "\n",
    "X_liar, y_liar = LiarData(liar_data)"
   ]
  },
  {
   "cell_type": "markdown",
   "metadata": {},
   "source": [
    "## Exclude articles without valid type"
   ]
  },
  {
   "cell_type": "code",
   "execution_count": null,
   "metadata": {},
   "outputs": [],
   "source": [
    "def RemoveUnknownTypes(input, unknown_types, output):\n",
    "    df = pd.read_csv(input)\n",
    "    indexes = []\n",
    "    rows = []\n",
    "    for i in range(len(df)):\n",
    "        if not (df.loc[i, \"type\"] in fake_dict.keys()):\n",
    "            indexes += [i]\n",
    "            rows += [df.loc[i]]\n",
    "            \n",
    "    unknown = pd.DataFrame(rows)\n",
    "    unknown.to_csv(unknown_types, index=False)\n",
    "    \n",
    "    df.drop(index=indexes, inplace=True)\n",
    "    df.reset_index(drop=True, inplace=True)\n",
    "    df.to_csv(output, index=False)\n",
    "    del(df)\n",
    "    \n",
    "RemoveUnknownTypes(fake_news_data, 'UnknownTypes.csv',  'Data-UnknownTypes.csv')"
   ]
  },
  {
   "cell_type": "markdown",
   "metadata": {},
   "source": [
    "## Divide the data into X and y data"
   ]
  },
  {
   "cell_type": "code",
   "execution_count": null,
   "metadata": {},
   "outputs": [],
   "source": [
    "def XyData(csv_path, X_path, y_path):\n",
    "    usecols = ['type', 'content']#, 'url']\n",
    "\n",
    "    df = pd.read_csv(csv_path, usecols=usecols)\n",
    "    \n",
    "    df.dropna(subset=['content'], inplace=True) #remove articles without content\n",
    "    df.reset_index(drop=True, inplace=True) #reset index\n",
    "    \n",
    "    y = pd.DataFrame(df['type'].replace(fake_dict))\n",
    "    \n",
    "    df.drop(columns=['type'], inplace=True)\n",
    "    # df['url'].fillna(value = '')\n",
    "    X = df\n",
    "         \n",
    "    X.to_csv(X_path, index=False) \n",
    "    y.to_csv(y_path, index=False)\n",
    "    del(df, X, y)\n",
    "\n",
    "XyData('Data-UnknownTypes.csv', 'X.csv', 'y.csv')"
   ]
  },
  {
   "cell_type": "markdown",
   "metadata": {},
   "source": [
    "## Check label distribution"
   ]
  },
  {
   "cell_type": "code",
   "execution_count": null,
   "metadata": {},
   "outputs": [],
   "source": [
    "def CountAndPrintTypes(csv_path):\n",
    "    df = pd.read_csv(csv_path) \n",
    "    print(df.type.value_counts())\n",
    "    del(df)\n",
    "    \n",
    "CountAndPrintTypes('y.csv')"
   ]
  },
  {
   "cell_type": "markdown",
   "metadata": {},
   "source": [
    "## Split data into train, test and validation sections"
   ]
  },
  {
   "cell_type": "code",
   "execution_count": null,
   "metadata": {},
   "outputs": [],
   "source": [
    "def Split(X_path, y_path):\n",
    "    df_X = pd.read_csv(X_path)\n",
    "    df_y = pd.read_csv(y_path)\n",
    "    X_train, X_test, y_train, y_test = train_test_split(df_X,\n",
    "                                                        df_y,\n",
    "                                                        train_size = 0.8,\n",
    "                                                        random_state = 1,\n",
    "                                                        shuffle = True)\n",
    "\n",
    "    X_test, X_val, y_test, y_val = train_test_split(X_test,\n",
    "                                                    y_test,\n",
    "                                                    test_size= 0.5,\n",
    "                                                    random_state = 1,\n",
    "                                                    shuffle = True)\n",
    "    del(df_X, df_y)\n",
    "    return X_train, X_test, X_val, y_train, y_test, y_val\n",
    "\n",
    "X_train, X_test, X_val, y_train, y_test, y_val = Split('X.csv', 'y.csv')"
   ]
  },
  {
   "cell_type": "markdown",
   "metadata": {},
   "source": [
    "## Vectorize the chosen prediction data "
   ]
  },
  {
   "cell_type": "code",
   "execution_count": null,
   "metadata": {},
   "outputs": [],
   "source": [
    "def Vectorizer(train, test, val, liar):\n",
    "    vectorizer = TfidfVectorizer(stop_words='english', max_df=0.75)\n",
    "\n",
    "    col_vectorizer = make_column_transformer((vectorizer, 'content'),\n",
    "                                             #(vectorizer, 'url'),\n",
    "                                             remainder='drop')\n",
    "\n",
    "    X_train_vec = col_vectorizer.fit_transform(train)\n",
    "    X_test_vec = col_vectorizer.transform(test)\n",
    "    X_val_vec = col_vectorizer.transform(val)\n",
    "    X_liar_vec = col_vectorizer.transform(liar)\n",
    "    \n",
    "    return X_train_vec, X_test_vec, X_val_vec, X_liar_vec\n",
    "\n",
    "X_train_vec, X_test_vec, X_val_vec, X_liar_vec = Vectorizer(X_train, X_test, X_val, X_liar)"
   ]
  },
  {
   "cell_type": "markdown",
   "metadata": {},
   "source": [
    "## Train model"
   ]
  },
  {
   "cell_type": "code",
   "execution_count": null,
   "metadata": {},
   "outputs": [],
   "source": [
    "def TrainModel(model, X, y):\n",
    "    return model.fit(X, y.type)\n",
    "\n",
    "trained_model = TrainModel(model, X_train_vec, y_train)"
   ]
  },
  {
   "cell_type": "markdown",
   "metadata": {},
   "source": [
    "## Predict and test score"
   ]
  },
  {
   "cell_type": "code",
   "execution_count": null,
   "metadata": {},
   "outputs": [],
   "source": [
    "def Predict(model, X_data):\n",
    "    y_pred = model.predict(X_data)   \n",
    "    return y_pred\n",
    "\n",
    "def ConfMatrix(y_data, y_pred):\n",
    "    matrix = confusion_matrix(y_data,y_pred, labels=[1,0])\n",
    "    TP = matrix[0][0]\n",
    "    TN = matrix[1][1]\n",
    "    FP = matrix[1][0]\n",
    "    FN = matrix[0][1]\n",
    "    print(f'Confusion matrix:\\n {matrix}')\n",
    "    print('\\n')\n",
    "    print(f'TP: {TP}')\n",
    "    print(f'TN: {TN}')\n",
    "    print(f'FP: {FP}')\n",
    "    print(f'FN: {FN}')\n",
    "    print('\\n')\n",
    "    return TP, TN, FP, FN\n",
    "\n",
    "def Score(TP, TN, FP, FN):\n",
    "    accuracy = (TP + TN) / (TP + TN + FP + FN)\n",
    "    precision = TP / (TP + FP)\n",
    "    recall = TP / (TP + FN)\n",
    "    f1 = 2 * ((precision*recall)/(precision+recall))\n",
    "    print(f'Accuracy: {accuracy}')\n",
    "    print(f'precision: {precision}')\n",
    "    print(f'recall: {recall}')\n",
    "    print(f'F1: {f1}')\n",
    "    \n",
    "def test(model,X_data ,y_data):\n",
    "    y_pred = Predict(model, X_data)\n",
    "    TP, TN, FP, FN = ConfMatrix(y_data, y_pred) \n",
    "    Score(TP, TN, FP, FN)\n",
    "    \n",
    "test(trained_model, X_val_vec, y_val)\n",
    "#test(trained_model, X_liar_vec, y_liar)"
   ]
  },
  {
   "cell_type": "markdown",
   "metadata": {},
   "source": [
    "## Crossvalidate"
   ]
  },
  {
   "cell_type": "code",
   "execution_count": null,
   "metadata": {},
   "outputs": [],
   "source": [
    "def CrossValidate(model, X_path, y_path):    \n",
    "    df_X = pd.read_csv(X_path) \n",
    "    df_y = pd.read_csv(y_path)\n",
    "\n",
    "    vectorizer = TfidfVectorizer(stop_words='english', max_df=0.75)\n",
    "\n",
    "    col_vectorizer = make_column_transformer((vectorizer, 'content'),\n",
    "                                             #(vectorizer, 'url'),\n",
    "                                             remainder='drop')\n",
    "    \n",
    "    pipeline = make_pipeline([col_vectorizer, model])\n",
    "\n",
    "    cv = KFold(n_splits=5, shuffle=True)\n",
    "    score = cross_val_score(pipeline, df_X, df_y.type, cv=cv)\n",
    "\n",
    "    print(f'K Fold Accuracy: {score}%')\n",
    "\n",
    "#CrossValidate('X.csv', 'y.csv')"
   ]
  }
 ],
 "metadata": {
  "kernelspec": {
   "display_name": "GDS_E",
   "language": "python",
   "name": "python3"
  },
  "language_info": {
   "codemirror_mode": {
    "name": "ipython",
    "version": 3
   },
   "file_extension": ".py",
   "mimetype": "text/x-python",
   "name": "python",
   "nbconvert_exporter": "python",
   "pygments_lexer": "ipython3",
   "version": "3.11.8"
  }
 },
 "nbformat": 4,
 "nbformat_minor": 2
}
