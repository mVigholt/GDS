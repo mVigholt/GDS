{
 "cells": [
  {
   "cell_type": "code",
   "execution_count": null,
   "metadata": {},
   "outputs": [],
   "source": [
    "import pandas as pd\n",
    "import cleantext as ct\n",
    "from sklearn.svm import LinearSVC\n",
    "from sklearn.model_selection import KFold\n",
    "from sklearn.pipeline import make_pipeline\n",
    "from sklearn.metrics import confusion_matrix\n",
    "from sklearn.preprocessing import StandardScaler\n",
    "from sklearn.model_selection import cross_val_score\n",
    "from sklearn.linear_model import LogisticRegression\n",
    "from sklearn.compose import make_column_transformer\n",
    "from sklearn.model_selection import train_test_split\n",
    "from sklearn.feature_extraction.text import TfidfVectorizer\n",
    "from sklearn.feature_extraction.text import CountVectorizer"
   ]
  },
  {
   "cell_type": "markdown",
   "metadata": {},
   "source": [
    "## Define path of raw dataset and model below"
   ]
  },
  {
   "cell_type": "code",
   "execution_count": null,
   "metadata": {},
   "outputs": [],
   "source": [
    "fake_news_path = '..\\\\data\\\\995,000_rows.csv'\n",
    "\n",
    "liar_path = 'liar_dataset\\\\valid.tsv'"
   ]
  },
  {
   "cell_type": "markdown",
   "metadata": {},
   "source": [
    "## Sort label types:\n",
    "https://github.com/several27/FakeNewsCorpus/blob/v1.0/README.md \\\n",
    "https://www.rand.org/research/projects/truth-decay/fighting-disinformation/search/items/opensources.html\n",
    "- Fake:                    \n",
    "    - Sources that entirely fabricate information, disseminate deceptive content, or grossly distort actual news reports\n",
    "- Satire:   \n",
    "    - Sources that use humor, irony, exaggeration, ridicule, and false information to comment on current events.\n",
    "- Bias:       \n",
    "    - Sources that come from a particular point of view and may rely on propaganda, decontextualized information, and opinions distorted as facts.\n",
    "- Conspiracy:  \n",
    "    - Sources that are well-known promoters of kooky conspiracy theories.\n",
    "- Rumor:\n",
    "    - ???\n",
    "- State News:           state\t    \n",
    "    - Sources in repressive states operating under government sanction.\n",
    "- Junksci:\t    \n",
    "    - Sources that promote pseudoscience, metaphysics, naturalistic fallacies, and other scientifically dubious claims.\n",
    "- Hate:        \n",
    "    - Sources that actively promote racism, misogyny, homophobia, and other forms of discrimination.\n",
    "- Clickbait:   \n",
    "    - Sources that provide generally credible content, but use exaggerated, misleading, or questionable headlines, social media descriptions, and/or images.\n",
    "- Unreliable:  \n",
    "    - Sources that may be reliable but whose contents require further verification.\n",
    "- Political:   \n",
    "    - Sources that provide generally verifiable information in support of certain points of view or political orientations.\n",
    "- Reliable:    \n",
    "    - Sources that circulate news and information in a manner consistent with traditional and ethical practices in journalism (Remember: even credible sources sometimes rely on clickbait-style headlines or occasionally make mistakes. No news organization is perfect, which is why a healthy news diet consists of multiple sources of information).\n",
    "\n",
    "### Based on the label explanations above from the dataset Readme.md, the types are divided into two main groups:\n",
    "- 1 = fake\n",
    "- 0 = not fake"
   ]
  },
  {
   "cell_type": "code",
   "execution_count": null,
   "metadata": {},
   "outputs": [],
   "source": [
    "fake_dict = {'fake'         : '1',\n",
    "             'satire'       : '1',\n",
    "             'bias'         : '1',\n",
    "             'conspiracy'   : '1',\n",
    "             'rumor'        : '1',\n",
    "             'state'        : '0',\n",
    "             'junksci'      : '1', \n",
    "             'hate'         : '1',\n",
    "             'clickbait'    : '0',\n",
    "             'unreliable'   : '0',\n",
    "             'political'    : '0',\n",
    "             'reliable'     : '0'}"
   ]
  },
  {
   "cell_type": "markdown",
   "metadata": {},
   "source": [
    "## Load liar data in same format as FakeNews\n",
    "https://datasets.activeloop.ai/docs/ml/datasets/liar-dataset/"
   ]
  },
  {
   "cell_type": "code",
   "execution_count": null,
   "metadata": {},
   "outputs": [],
   "source": [
    "liar_dict = {'true'         : 0, \n",
    "             'false'        : 1, \n",
    "             'half-true'    : 1, \n",
    "             'pants-fire'   : 1, \n",
    "             'barely-true'  : 0, \n",
    "             'mostly-true'  : 0}"
   ]
  },
  {
   "cell_type": "code",
   "execution_count": null,
   "metadata": {},
   "outputs": [],
   "source": [
    "def Clean(df):\n",
    "    print('Clean')\n",
    "    for i in range(len(df.content)):\n",
    "        df.loc[i, \"content\"] = ct.clean(text =  df.loc[i, \"content\"],\n",
    "                                        fix_unicode = True,\n",
    "                                        to_ascii = True,\n",
    "                                        lower = True,\n",
    "                                        normalize_whitespace = True,\n",
    "                                        no_line_breaks = True,\n",
    "                                        strip_lines = True,\n",
    "                                        keep_two_line_breaks = False,\n",
    "                                        no_urls = True,\n",
    "                                        no_emails = True,\n",
    "                                        no_phone_numbers = False,\n",
    "                                        no_numbers = True,\n",
    "                                        no_digits = False,\n",
    "                                        no_currency_symbols = False,\n",
    "                                        no_punct = False,\n",
    "                                        no_emoji = False,\n",
    "                                        replace_with_url = \"<URL>\",\n",
    "                                        replace_with_email = \"<EMAIL>\",\n",
    "                                        replace_with_phone_number = \"<PHONE>\",\n",
    "                                        replace_with_number = \"<NUM>\",\n",
    "                                        replace_with_digit = \"<DIG>\",\n",
    "                                        replace_with_currency_symbol = \"<CUR>\",\n",
    "                                        replace_with_punct = \"\",\n",
    "                                        lang = \"en\")\n",
    "    return df"
   ]
  },
  {
   "cell_type": "code",
   "execution_count": null,
   "metadata": {},
   "outputs": [],
   "source": [
    "def OpenRawLiar(path):\n",
    "    print('OpenRawLiar')\n",
    "    df = pd.read_table(path, header=None)\n",
    "    df.rename(columns={1: 'type', 2: 'content'}, inplace=True)\n",
    "    df.drop(columns=[0,3,4,5,6,7,8,9,10,11,12,13], inplace=True)\n",
    "    df.drop\n",
    "    return df\n",
    "    \n",
    "def OpenRawFakeNews(path):\n",
    "    print('OpenRawFakeNews')\n",
    "    usecols = ['type', 'content']\n",
    "    df = pd.read_csv(path, usecols=usecols)\n",
    "    return df"
   ]
  },
  {
   "cell_type": "code",
   "execution_count": null,
   "metadata": {},
   "outputs": [],
   "source": [
    "def RemoveUnknownTypes(df:pd.DataFrame, type_dict:dict):\n",
    "    print('RemoveUnknownTypes')\n",
    "    indexes = []\n",
    "    for i in range(len(df)):\n",
    "        if not (df.loc[i, \"type\"] in type_dict.keys()):\n",
    "            indexes += [i]\n",
    "    \n",
    "    df.drop(index=indexes, inplace=True)\n",
    "    df.reset_index(drop=True, inplace=True)\n",
    "    return df"
   ]
  },
  {
   "cell_type": "code",
   "execution_count": null,
   "metadata": {},
   "outputs": [],
   "source": [
    "def XyData(df:pd.DataFrame, type_dict:dict): \n",
    "    #df = df.apply(lambda row: row[df['type'].isin(type_dict.keys())]) # keep only rows with known types \n",
    "    df = RemoveUnknownTypes(df, type_dict)\n",
    "    \n",
    "    df.dropna(subset=['type', 'content'], inplace=True) #remove rows without content or type\n",
    "    df.reset_index(drop=True, inplace=True) #reset index\n",
    "    \n",
    "    y = pd.DataFrame(df['type'].replace(type_dict))\n",
    "    \n",
    "    df.drop(columns=['type'], inplace=True)\n",
    "\n",
    "    #X = Clean(df)\n",
    "    X = df\n",
    "    return X, y"
   ]
  },
  {
   "cell_type": "code",
   "execution_count": null,
   "metadata": {},
   "outputs": [],
   "source": [
    "def Split(X, y):\n",
    "    X_train, X_test, y_train, y_test = train_test_split(X,\n",
    "                                                        y,\n",
    "                                                        train_size = 0.8,\n",
    "                                                        random_state = 1,\n",
    "                                                        shuffle = True)\n",
    "\n",
    "    X_test, X_val, y_test, y_val = train_test_split(X_test,\n",
    "                                                    y_test,\n",
    "                                                    test_size= 0.5,\n",
    "                                                    random_state = 1,\n",
    "                                                    shuffle = True)\n",
    "\n",
    "    return X_train, X_test, X_val, y_train, y_test, y_val"
   ]
  },
  {
   "cell_type": "code",
   "execution_count": null,
   "metadata": {},
   "outputs": [],
   "source": [
    "def MakeFakeNews():\n",
    "    X_train, X_test, X_val, y_train, y_test, y_val = Split(*XyData(OpenRawFakeNews(fake_news_path), fake_dict))\n",
    "    print('Saving')\n",
    "    X_train.to_csv('data\\\\X_train', index=False)\n",
    "    X_test.to_csv('data\\\\X_test', index=False)\n",
    "    X_val.to_csv('data\\\\X_val', index=False)\n",
    "    y_train.to_csv('data\\\\y_train', index=False) \n",
    "    y_test.to_csv('data\\\\y_test', index=False)\n",
    "    y_val.to_csv('data\\\\y_val', index=False)\n",
    "\n",
    "def MakeLiar():\n",
    "    X_liar, y_liar = XyData(OpenRawLiar(liar_path), liar_dict)\n",
    "    print('Saving')\n",
    "    X_liar.to_csv('data\\\\X_liar', index=False)\n",
    "    y_liar.to_csv('data\\\\y_liar', index=False)\n",
    "\n",
    "MakeFakeNews()\n",
    "MakeLiar()"
   ]
  }
 ],
 "metadata": {
  "kernelspec": {
   "display_name": "GDS_E",
   "language": "python",
   "name": "python3"
  },
  "language_info": {
   "codemirror_mode": {
    "name": "ipython",
    "version": 3
   },
   "file_extension": ".py",
   "mimetype": "text/x-python",
   "name": "python",
   "nbconvert_exporter": "python",
   "pygments_lexer": "ipython3",
   "version": "3.11.8"
  }
 },
 "nbformat": 4,
 "nbformat_minor": 2
}
