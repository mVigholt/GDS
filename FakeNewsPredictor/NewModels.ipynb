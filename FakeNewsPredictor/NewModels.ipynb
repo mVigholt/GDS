{
 "cells": [
  {
   "cell_type": "code",
   "execution_count": null,
   "metadata": {},
   "outputs": [],
   "source": [
    "import pandas as pd\n",
    "import cleantext as ct\n",
    "from sklearn.svm import LinearSVC\n",
    "from sklearn.model_selection import KFold\n",
    "from sklearn.pipeline import make_pipeline\n",
    "from sklearn.metrics import confusion_matrix\n",
    "from sklearn.preprocessing import StandardScaler\n",
    "from sklearn.model_selection import cross_val_score\n",
    "from sklearn.linear_model import LogisticRegression\n",
    "from sklearn.compose import make_column_transformer\n",
    "from sklearn.model_selection import train_test_split\n",
    "from sklearn.feature_extraction.text import TfidfVectorizer\n",
    "from sklearn.feature_extraction.text import CountVectorizer"
   ]
  },
  {
   "cell_type": "markdown",
   "metadata": {},
   "source": [
    "## Models"
   ]
  },
  {
   "cell_type": "code",
   "execution_count": null,
   "metadata": {},
   "outputs": [],
   "source": [
    "def SimpelModel():\n",
    "    model = LogisticRegression(random_state=0, max_iter=1000)\n",
    "    pipeline = make_pipeline(StandardScaler(with_mean=False, with_std=False), model)\n",
    "    return pipeline\n",
    "\n",
    "def AdvancedModel():\n",
    "    model = LinearSVC(max_iter=1000, dual='auto')\n",
    "    return model\n",
    "\n",
    "# Choose model:\n",
    "model = SimpelModel()\n"
   ]
  },
  {
   "cell_type": "markdown",
   "metadata": {},
   "source": [
    "## Load data"
   ]
  },
  {
   "cell_type": "code",
   "execution_count": null,
   "metadata": {},
   "outputs": [],
   "source": [
    "X_train = pd.read_csv('files\\\\X_train')\n",
    "X_test = pd.read_csv('files\\\\X_test')\n",
    "X_val = pd.read_csv('files\\\\X_val')   \n",
    "y_train = pd.read_csv('files\\\\y_train') \n",
    "y_test = pd.read_csv('files\\\\y_test')  \n",
    "y_val = pd.read_csv('files\\\\y_val')   \n",
    "X_liar = pd.read_csv('files\\\\X_liar') \n",
    "y_liar = pd.read_csv('files\\\\y_liar') "
   ]
  },
  {
   "cell_type": "markdown",
   "metadata": {},
   "source": [
    "## Check label distribution"
   ]
  },
  {
   "cell_type": "code",
   "execution_count": null,
   "metadata": {},
   "outputs": [],
   "source": [
    "def CountAndPrintTypes(csv_path):\n",
    "    df = pd.read_csv(csv_path) \n",
    "    print(df.type.value_counts())\n",
    "    del(df)\n",
    "    \n",
    "#CountAndPrintTypes('y.csv')"
   ]
  },
  {
   "cell_type": "markdown",
   "metadata": {},
   "source": [
    "## Vectorize the chosen prediction data "
   ]
  },
  {
   "cell_type": "code",
   "execution_count": null,
   "metadata": {},
   "outputs": [],
   "source": [
    "def Vectorizer(model, train, test, val, liar):\n",
    "    #pattern=r\"[^\\w\\d\\-''_<>]\"\n",
    "    if model == AdvancedModel():\n",
    "        vectorizer = TfidfVectorizer(stop_words='english', max_df=0.75)\n",
    "    else:\n",
    "        vectorizer = CountVectorizer(stop_words='english', max_df=0.75, max_features=100)\n",
    "        \n",
    "    col_vectorizer = make_column_transformer((vectorizer, 'content'),\n",
    "                                             remainder='drop')\n",
    "\n",
    "    X_train_vec = col_vectorizer.fit_transform(train)\n",
    "    X_test_vec = col_vectorizer.transform(test)\n",
    "    X_val_vec = col_vectorizer.transform(val)\n",
    "    X_liar_vec = col_vectorizer.transform(liar)\n",
    "    \n",
    "    return X_train_vec, X_test_vec, X_val_vec, X_liar_vec\n",
    "\n",
    "X_train_vec, X_test_vec, X_val_vec, X_liar_vec = Vectorizer(model, X_train, X_test, X_val, X_liar)"
   ]
  },
  {
   "cell_type": "markdown",
   "metadata": {},
   "source": [
    "## Train model"
   ]
  },
  {
   "cell_type": "code",
   "execution_count": null,
   "metadata": {},
   "outputs": [],
   "source": [
    "def TrainModel(model, X, y):\n",
    "    return model.fit(X, y.type)\n",
    "\n",
    "trained_model = TrainModel(model, X_train_vec, y_train)"
   ]
  },
  {
   "cell_type": "markdown",
   "metadata": {},
   "source": [
    "## Predict and test score"
   ]
  },
  {
   "cell_type": "code",
   "execution_count": null,
   "metadata": {},
   "outputs": [],
   "source": [
    "def Predict(model, X_data):\n",
    "    y_pred = model.predict(X_data)   \n",
    "    return y_pred\n",
    "\n",
    "def ConfMatrix(y_data, y_pred):\n",
    "    matrix = confusion_matrix(y_data,y_pred, labels=[1,0])\n",
    "    TP = matrix[0][0]\n",
    "    TN = matrix[1][1]\n",
    "    FP = matrix[1][0]\n",
    "    FN = matrix[0][1]\n",
    "    print(f'Confusion matrix:\\n {matrix}')\n",
    "    print('\\n')\n",
    "    print(f'TP: {TP}')\n",
    "    print(f'TN: {TN}')\n",
    "    print(f'FP: {FP}')\n",
    "    print(f'FN: {FN}')\n",
    "    print('\\n')\n",
    "    return TP, TN, FP, FN\n",
    "\n",
    "def Score(TP, TN, FP, FN):\n",
    "    accuracy = (TP + TN) / (TP + TN + FP + FN)\n",
    "    precision = TP / (TP + FP)\n",
    "    recall = TP / (TP + FN)\n",
    "    f1 = 2 * ((precision*recall)/(precision+recall))\n",
    "    print(f'Accuracy: {accuracy}')\n",
    "    print(f'precision: {precision}')\n",
    "    print(f'recall: {recall}')\n",
    "    print(f'F1: {f1}')\n",
    "    \n",
    "def test(model,X_data ,y_data):\n",
    "    y_pred = Predict(model, X_data)\n",
    "    TP, TN, FP, FN = ConfMatrix(y_data, y_pred) \n",
    "    Score(TP, TN, FP, FN)\n",
    "    \n",
    "test(trained_model, X_val_vec, y_val)\n",
    "#test(trained_model, X_liar_vec, y_liar)"
   ]
  },
  {
   "cell_type": "markdown",
   "metadata": {},
   "source": [
    "## Crossvalidate"
   ]
  },
  {
   "cell_type": "code",
   "execution_count": null,
   "metadata": {},
   "outputs": [],
   "source": [
    "def CrossValidate(model, X_path, y_path):    \n",
    "    df_X = pd.read_csv(X_path) \n",
    "    df_y = pd.read_csv(y_path)\n",
    "\n",
    "    vectorizer = TfidfVectorizer(stop_words='english', max_df=0.75)\n",
    "\n",
    "    col_vectorizer = make_column_transformer((vectorizer, 'content'),\n",
    "                                             #(vectorizer, 'url'),\n",
    "                                             remainder='drop')\n",
    "    \n",
    "    pipeline = make_pipeline([col_vectorizer, model])\n",
    "\n",
    "    cv = KFold(n_splits=5, shuffle=True)\n",
    "    score = cross_val_score(pipeline, df_X, df_y.type, cv=cv)\n",
    "\n",
    "    print(f'K Fold Accuracy: {score}%')\n",
    "\n",
    "#CrossValidate('X.csv', 'y.csv')"
   ]
  }
 ],
 "metadata": {
  "kernelspec": {
   "display_name": "GDS_E",
   "language": "python",
   "name": "python3"
  },
  "language_info": {
   "codemirror_mode": {
    "name": "ipython",
    "version": 3
   },
   "file_extension": ".py",
   "mimetype": "text/x-python",
   "name": "python",
   "nbconvert_exporter": "python",
   "pygments_lexer": "ipython3",
   "version": "3.11.8"
  }
 },
 "nbformat": 4,
 "nbformat_minor": 2
}
