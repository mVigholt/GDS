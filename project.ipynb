{
 "cells": [
  {
   "cell_type": "code",
   "execution_count": 37,
   "metadata": {},
   "outputs": [],
   "source": [
    "import pandas, re, cleantext, nltk\n",
    "import pandas as pd\n",
    "from itertools import chain\n",
    "from nltk.corpus import stopwords"
   ]
  },
  {
   "cell_type": "code",
   "execution_count": 38,
   "metadata": {},
   "outputs": [],
   "source": [
    "def clean(csv):\n",
    "  df = pandas.read_csv(csv)\n",
    "  for i in range(len(df[\"content\"])):\n",
    "    df.loc[i, \"content\"] = cleantext.clean(df.loc[i, \"content\"],\n",
    "      lower=True,\n",
    "      no_line_breaks=True,\n",
    "      no_numbers=True,\n",
    "      no_emails=True,\n",
    "      no_urls=True,\n",
    "      replace_with_number=\"<NUM>\")\n",
    "  return df\n",
    "\n",
    "clean(\"news_sample.csv\").to_csv(\"cleaned_news_sample.csv\")"
   ]
  },
  {
   "cell_type": "code",
   "execution_count": 39,
   "metadata": {},
   "outputs": [],
   "source": [
    "def tokenize(dataFrame):\n",
    "    df = dataFrame\n",
    "\n",
    "    # Create empty list to gather lists of tokens\n",
    "    # and loop through column to add words\n",
    "    allWords = []\n",
    "\n",
    "    for cell in df['content']:\n",
    "        # words = cell.split()\n",
    "        # allWords.append(list(words))\n",
    "        tokens = nltk.word_tokenize(cell)\n",
    "        allWords.append(tokens)\n",
    "    \n",
    "    # Create flat list from list of lists\n",
    "    flat_list_raw = [word for inner_list in allWords for word in inner_list]\n",
    "    flat_list_final = [word for item in flat_list_raw for word in re.split(r'[().,\\'\"-]', item) if word.strip()]\n",
    "    # flat_list_final = [word for item in flat_list_raw for word in item.split('.')]\n",
    "           \n",
    "    return flat_list_final\n"
   ]
  },
  {
   "cell_type": "code",
   "execution_count": 40,
   "metadata": {},
   "outputs": [],
   "source": [
    "def stem(input):\n",
    "  stemmer = nltk.SnowballStemmer(language=\"english\", ignore_stopwords=True)\n",
    "  stem_words = []\n",
    "  for token in input:\n",
    "    x = stemmer.stem(token)\n",
    "    stem_words.append(x)\n",
    "  return stem_words"
   ]
  },
  {
   "cell_type": "code",
   "execution_count": 41,
   "metadata": {},
   "outputs": [],
   "source": [
    "def remove_stopwords(cell):\n",
    "  for token in cell:\n",
    "    stop_words = stopwords.words('english')\n",
    "    filteredInput = []\n",
    "    \n",
    "    for token in cell:\n",
    "      if token not in stop_words:\n",
    "        filteredInput.append(token)\n",
    "        \n",
    "    return filteredInput"
   ]
  },
  {
   "cell_type": "code",
   "execution_count": 42,
   "metadata": {},
   "outputs": [
    {
     "ename": "TypeError",
     "evalue": "PorterStemmer.__init__() got an unexpected keyword argument 'language'",
     "output_type": "error",
     "traceback": [
      "\u001b[0;31m---------------------------------------------------------------------------\u001b[0m",
      "\u001b[0;31mTypeError\u001b[0m                                 Traceback (most recent call last)",
      "Cell \u001b[0;32mIn[42], line 11\u001b[0m\n\u001b[1;32m      8\u001b[0m   \u001b[38;5;28;01mfor\u001b[39;00m x \u001b[38;5;129;01min\u001b[39;00m StemmedData:\n\u001b[1;32m      9\u001b[0m     \u001b[38;5;28mprint\u001b[39m(x)\n\u001b[0;32m---> 11\u001b[0m \u001b[43mrun\u001b[49m\u001b[43m(\u001b[49m\u001b[43m)\u001b[49m\n",
      "Cell \u001b[0;32mIn[42], line 6\u001b[0m, in \u001b[0;36mrun\u001b[0;34m()\u001b[0m\n\u001b[1;32m      4\u001b[0m tokenizedData \u001b[38;5;241m=\u001b[39m tokenize(cleaned)\n\u001b[1;32m      5\u001b[0m stopwordsRemoved \u001b[38;5;241m=\u001b[39m remove_stopwords(tokenizedData)\n\u001b[0;32m----> 6\u001b[0m StemmedData \u001b[38;5;241m=\u001b[39m \u001b[43mstem\u001b[49m\u001b[43m(\u001b[49m\u001b[43mstopwordsRemoved\u001b[49m\u001b[43m)\u001b[49m\n\u001b[1;32m      8\u001b[0m \u001b[38;5;28;01mfor\u001b[39;00m x \u001b[38;5;129;01min\u001b[39;00m StemmedData:\n\u001b[1;32m      9\u001b[0m   \u001b[38;5;28mprint\u001b[39m(x)\n",
      "Cell \u001b[0;32mIn[40], line 3\u001b[0m, in \u001b[0;36mstem\u001b[0;34m(input)\u001b[0m\n\u001b[1;32m      1\u001b[0m \u001b[38;5;28;01mdef\u001b[39;00m \u001b[38;5;21mstem\u001b[39m(\u001b[38;5;28minput\u001b[39m):\n\u001b[1;32m      2\u001b[0m   \u001b[38;5;66;03m# stemmer = nltk.SnowballStemmer(language=\"english\", ignore_stopwords=True)\u001b[39;00m\n\u001b[0;32m----> 3\u001b[0m   stemmer \u001b[38;5;241m=\u001b[39m \u001b[43mnltk\u001b[49m\u001b[38;5;241;43m.\u001b[39;49m\u001b[43mPorterStemmer\u001b[49m\u001b[43m(\u001b[49m\u001b[43mlanguage\u001b[49m\u001b[38;5;241;43m=\u001b[39;49m\u001b[38;5;124;43m\"\u001b[39;49m\u001b[38;5;124;43menglish\u001b[39;49m\u001b[38;5;124;43m\"\u001b[39;49m\u001b[43m,\u001b[49m\u001b[43m \u001b[49m\u001b[43mignore_stopwords\u001b[49m\u001b[38;5;241;43m=\u001b[39;49m\u001b[38;5;28;43;01mTrue\u001b[39;49;00m\u001b[43m)\u001b[49m\n\u001b[1;32m      4\u001b[0m   stem_words \u001b[38;5;241m=\u001b[39m []\n\u001b[1;32m      5\u001b[0m   \u001b[38;5;28;01mfor\u001b[39;00m token \u001b[38;5;129;01min\u001b[39;00m \u001b[38;5;28minput\u001b[39m:\n",
      "\u001b[0;31mTypeError\u001b[0m: PorterStemmer.__init__() got an unexpected keyword argument 'language'"
     ]
    }
   ],
   "source": [
    "def run():\n",
    "  data = \"news_sample.csv\"\n",
    "  cleaned = clean(data)\n",
    "  tokenizedData = tokenize(cleaned)\n",
    "  stopwordsRemoved = remove_stopwords(tokenizedData)\n",
    "  StemmedData = stem(stopwordsRemoved)\n",
    "  \n",
    "  for x in StemmedData:\n",
    "    print(x)\n",
    "\n",
    "run()"
   ]
  }
 ],
 "metadata": {
  "kernelspec": {
   "display_name": "ex1",
   "language": "python",
   "name": "python3"
  },
  "language_info": {
   "codemirror_mode": {
    "name": "ipython",
    "version": 3
   },
   "file_extension": ".py",
   "mimetype": "text/x-python",
   "name": "python",
   "nbconvert_exporter": "python",
   "pygments_lexer": "ipython3",
   "version": "3.11.7"
  }
 },
 "nbformat": 4,
 "nbformat_minor": 2
}
