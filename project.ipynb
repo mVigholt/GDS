{
 "cells": [
  {
   "cell_type": "code",
   "execution_count": 79,
   "metadata": {},
   "outputs": [],
   "source": [
    "import re, nltk\n",
    "import cleantext as ct\n",
    "import pandas as pd\n",
    "from itertools import chain\n",
    "from nltk.corpus import stopwords\n",
    "from nltk import regexp_tokenize"
   ]
  },
  {
   "cell_type": "code",
   "execution_count": 80,
   "metadata": {},
   "outputs": [],
   "source": [
    "def tokenize(string):\n",
    "    return regexp_tokenize(string, pattern=r\"[^\\w\\d\\-''_]\", gaps=True)\n"
   ]
  },
  {
   "cell_type": "code",
   "execution_count": 81,
   "metadata": {},
   "outputs": [],
   "source": [
    "def stem(lst):\n",
    "  stemmer = nltk.SnowballStemmer(language=\"english\", ignore_stopwords=True)\n",
    "  stem_words = []\n",
    "  for token in lst:\n",
    "    x = stemmer.stem(token)\n",
    "    stem_words.append(x)\n",
    "  return stem_words"
   ]
  },
  {
   "cell_type": "code",
   "execution_count": 82,
   "metadata": {},
   "outputs": [],
   "source": [
    "def remove_stopwords(lst):\n",
    "  for token in lst:\n",
    "    stop_words = stopwords.words('english')\n",
    "    filteredInput = []\n",
    "    \n",
    "    for token in lst:\n",
    "      if token not in stop_words:\n",
    "        filteredInput.append(token)\n",
    "        \n",
    "    return filteredInput"
   ]
  },
  {
   "cell_type": "code",
   "execution_count": 83,
   "metadata": {},
   "outputs": [],
   "source": [
    "def cleaning(csv):\n",
    "  data = csv\n",
    "  df = pd.read_csv(data)\n",
    "  \n",
    "  for i in range(len(df[\"content\"])):\n",
    "    value = df.loc[i, \"content\"]\n",
    "    value = ct.clean(value, lower=True, no_line_breaks=True, no_numbers=True, no_emails=True, no_urls=True, replace_with_number=\"<NUM>\")\n",
    "    value = tokenize(value)\n",
    "    value = remove_stopwords(value)\n",
    "    value = stem(value)\n",
    "    df.loc[i, \"content\"] = ' '.join(map(str,value))\n",
    "  return df"
   ]
  },
  {
   "cell_type": "code",
   "execution_count": 84,
   "metadata": {},
   "outputs": [],
   "source": [
    "def run():\n",
    "  df = cleaning(\"news_sample.csv\")\n",
    "  df.to_csv(\"finished.csv\")\n",
    "run()"
   ]
  }
 ],
 "metadata": {
  "kernelspec": {
   "display_name": "ex1",
   "language": "python",
   "name": "python3"
  },
  "language_info": {
   "codemirror_mode": {
    "name": "ipython",
    "version": 3
   },
   "file_extension": ".py",
   "mimetype": "text/x-python",
   "name": "python",
   "nbconvert_exporter": "python",
   "pygments_lexer": "ipython3",
   "version": "3.11.8"
  }
 },
 "nbformat": 4,
 "nbformat_minor": 2
}
