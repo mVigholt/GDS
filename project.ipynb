{
 "cells": [
  {
   "cell_type": "code",
   "execution_count": null,
   "metadata": {},
   "outputs": [],
   "source": [
    "import re, nltk\n",
    "import cleantext as ct\n",
    "import pandas as pd\n",
    "from itertools import chain\n",
    "from nltk.corpus import stopwords\n",
    "from nltk import regexp_tokenize"
   ]
  },
  {
   "cell_type": "code",
   "execution_count": null,
   "metadata": {},
   "outputs": [],
   "source": [
    "def clean(csv):\n",
    "  df = pd.read_csv(csv)\n",
    "  for i in range(len(df[\"content\"])):\n",
    "    df.loc[i, \"content\"] = ct.clean(df.loc[i, \"content\"], lower=True, no_line_breaks=True, no_numbers=True, no_emails=True, no_urls=True, replace_with_number=\"<NUM>\")\n",
    "  return df\n",
    "\n",
    "clean(\"news_sample.csv\").to_csv(\"cleaned_news_sample.csv\")"
   ]
  },
  {
   "cell_type": "code",
   "execution_count": null,
   "metadata": {},
   "outputs": [],
   "source": [
    "def tokenize(stringInput):\n",
    "              \n",
    "    return regexp_tokenize(stringInput, pattern=r\"\\s|[.,;']\", gaps=True)\n"
   ]
  },
  {
   "cell_type": "code",
   "execution_count": null,
   "metadata": {},
   "outputs": [],
   "source": [
    "def stem(input):\n",
    "  stemmer = nltk.SnowballStemmer(language=\"english\", ignore_stopwords=True)\n",
    "  stem_words = []\n",
    "  for token in input:\n",
    "    x = stemmer.stem(token)\n",
    "    stem_words.append(x)\n",
    "  return stem_words"
   ]
  },
  {
   "cell_type": "code",
   "execution_count": null,
   "metadata": {},
   "outputs": [],
   "source": [
    "def remove_stopwords(cell):\n",
    "  for token in cell:\n",
    "    stop_words = stopwords.words('english')\n",
    "    filteredInput = []\n",
    "    \n",
    "    for token in cell:\n",
    "      if token not in stop_words:\n",
    "        filteredInput.append(token)\n",
    "        \n",
    "    return filteredInput"
   ]
  },
  {
   "cell_type": "code",
   "execution_count": null,
   "metadata": {},
   "outputs": [],
   "source": [
    "def run():\n",
    "  data = \"news_sample.csv\"\n",
    "  cleaned = clean(data)\n",
    "  tokenizedData = tokenize(cleaned)\n",
    "  stopwordsRemoved = remove_stopwords(tokenizedData)\n",
    "  StemmedData = stem(stopwordsRemoved)\n",
    "  \n",
    "  for x in StemmedData:\n",
    "    print(x)\n",
    "\n",
    "run()"
   ]
  }
 ],
 "metadata": {
  "kernelspec": {
   "display_name": "ex1",
   "language": "python",
   "name": "python3"
  },
  "language_info": {
   "codemirror_mode": {
    "name": "ipython",
    "version": 3
   },
   "file_extension": ".py",
   "mimetype": "text/x-python",
   "name": "python",
   "nbconvert_exporter": "python",
   "pygments_lexer": "ipython3",
   "version": "3.11.7"
  }
 },
 "nbformat": 4,
 "nbformat_minor": 2
}
