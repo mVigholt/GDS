{
 "cells": [
  {
   "cell_type": "code",
   "execution_count": 216,
   "metadata": {},
   "outputs": [],
   "source": [
    "import re, nltk\n",
    "import cleantext as ct\n",
    "import pandas as pd\n",
    "from itertools import chain\n",
    "from nltk.corpus import stopwords\n",
    "from nltk import regexp_tokenize\n",
    "from sklearn.model_selection import train_test_split"
   ]
  },
  {
   "cell_type": "code",
   "execution_count": 217,
   "metadata": {},
   "outputs": [],
   "source": [
    "def tokenize(string):\n",
    "    return regexp_tokenize(string, pattern=r\"[^\\w\\d\\-''_<>]\", gaps=True)"
   ]
  },
  {
   "cell_type": "code",
   "execution_count": 218,
   "metadata": {},
   "outputs": [],
   "source": [
    "def stem(lst):\n",
    "  stemmer = nltk.SnowballStemmer(language=\"english\", ignore_stopwords=True)\n",
    "  stem_words = []\n",
    "  for token in lst:\n",
    "    x = stemmer.stem(token)\n",
    "    stem_words.append(x)\n",
    "  return stem_words"
   ]
  },
  {
   "cell_type": "code",
   "execution_count": 219,
   "metadata": {},
   "outputs": [],
   "source": [
    "def remove_stopwords(lst):\n",
    "  for token in lst:\n",
    "    stop_words = stopwords.words('english')\n",
    "    filteredInput = []\n",
    "    \n",
    "    for token in lst:\n",
    "      if token not in stop_words:\n",
    "        filteredInput.append(token)\n",
    "        \n",
    "    return filteredInput"
   ]
  },
  {
   "cell_type": "code",
   "execution_count": 224,
   "metadata": {},
   "outputs": [],
   "source": [
    "def cleaning(csv):\n",
    "  data = csv\n",
    "  df = pd.read_csv(data)\n",
    "  counter = 0\n",
    "  \n",
    "  for i in range(len(df[\"content\"])):\n",
    "    # rename fake-like types to just fake for simplicity\n",
    "    if df.loc[i, 'type'] in [\"unreliable\", \"fake\", \"conspiracy\", \"junksci\"]:\n",
    "      df.loc[i, 'type'] = \"fake\"\n",
    "    elif df.loc[i, 'type'] != 'reliable':\n",
    "      df = df.drop(i)\n",
    "      continue\n",
    "    value = df.loc[i, \"content\"]\n",
    "    value = ct.clean(value, lower=True, no_line_breaks=True, no_numbers=True, no_emails=True, no_urls=True, replace_with_number=\"<NUM>\")\n",
    "    value = tokenize(value)\n",
    "    value = remove_stopwords(value)\n",
    "    value = stem(value)\n",
    "    df.loc[i, \"content\"] = ' '.join(map(str,value))\n",
    "  df.reset_index(drop=True)\n",
    "  return df"
   ]
  },
  {
   "cell_type": "markdown",
   "metadata": {},
   "source": [
    "**counting the number of URLs in the content**\n",
    "- svar her\n",
    "\n",
    "**counting the number of dates in the content**\n",
    "- svar her\n",
    "\n",
    "**counting the number of numeric values in the content**\n",
    "- svar her\n",
    "\n",
    "**determining the 100 more frequent words that appear in the content**\n",
    "- svar her, mangler kode\n",
    "\n",
    "**plot the frequency of the 10000 most frequent words (any interesting patterns?)**\n",
    "- svar her, mangler kode\n",
    "\n",
    "**run the analysis in point 4 and 5 both before and after removing stopwords and applying stemming: do you see any difference?**\n",
    "- svar her, mangler kode\n"
   ]
  },
  {
   "cell_type": "markdown",
   "metadata": {},
   "source": [
    "## Libraries Brugt\n",
    "### pandas\n",
    "Converter csv til DataFrame, som kan bruges til at manipulere dataen inde i csv filen nemt\n",
    "### nltk\n",
    "Har indbygget pakker til at tokenize text og fjerne stopwords\n",
    "### cleantext\n",
    "Renser texten"
   ]
  },
  {
   "cell_type": "code",
   "execution_count": 221,
   "metadata": {},
   "outputs": [],
   "source": [
    "def run():\n",
    "  df = cleaning(\"news_sample.csv\")\n",
    "  df.to_csv(\"finished.csv\")\n",
    "run()"
   ]
  },
  {
   "cell_type": "code",
   "execution_count": 222,
   "metadata": {},
   "outputs": [
    {
     "data": {
      "text/plain": [
       "(241, 0, 0, 0, 1812, 17)"
      ]
     },
     "execution_count": 222,
     "metadata": {},
     "output_type": "execute_result"
    }
   ],
   "source": [
    "def analyze_data(csv):\n",
    "  df = pd.read_csv(csv)\n",
    "  \n",
    "  urlsInReliable = 0\n",
    "  urlsInFake = 0\n",
    "  datesInFake = 0\n",
    "  datesInReliable = 0\n",
    "  numInFake = 0\n",
    "  numInReliable = 0\n",
    "  isFake = 0\n",
    "  isReliable = 0\n",
    "  \n",
    "  df = df.filter(items=[\"type\", \"content\"])\n",
    "\n",
    "  for col, row in df.iterrows():\n",
    "    isFake = 0\n",
    "    isReliable = 0\n",
    "    if (row[\"type\"] == \"fake\"):\n",
    "      isFake += 1\n",
    "    else:\n",
    "      isReliable += 1\n",
    "    \n",
    "    for word in row[\"content\"].split():\n",
    "      urlsInFake += int(\"<url>\" == word) * isFake\n",
    "      urlsInReliable += int(\"<url>\" == word) * isReliable\n",
    "      \n",
    "      datesInFake += int(\"<date>\" == word) * isFake\n",
    "      datesInReliable += int(\"<date>\" == word) * isReliable\n",
    "      \n",
    "      numInFake += int(\"<num>\" == word) * isFake\n",
    "      numInReliable += int(\"<num>\" == word) * isReliable\n",
    "  \n",
    "  return urlsInFake, urlsInReliable, datesInFake, datesInReliable, numInFake, numInReliable\n",
    "    \n",
    "analyze_data(\"finished.csv\")"
   ]
  },
  {
   "cell_type": "markdown",
   "metadata": {},
   "source": [
    "**Make at least three non-trivial observations/discoveries about the data. These observations could be related to outliers, artefacts, or even better: genuinely interesting patterns in the data that could potentially be used for fake-news detection.**\n",
    "- Indeholder subjektivt ladede ord, så som \"stupid\"\n",
    "- Mangler kilder\n",
    "- Stavefejl"
   ]
  },
  {
   "cell_type": "markdown",
   "metadata": {},
   "source": [
    "**Describe how you ended up representing the FakeNewsCorpus dataset (for instance with a Pandas dataframe). Argue for why you chose this design.**\n",
    "- For at repræsentere data har vi valgt Pandas dataFrame. Det har vi gjort fordi det gør det nemt og overskueligt at arbejde med dataen og rense og manipulere med den.\n",
    "\n",
    "**Did you discover any inherent problems with the data while working with it?**\n",
    "- Ikke rigtigt\n",
    "\n",
    "**Report key properties of the data set - for instance through statistics or visualization.**"
   ]
  }
 ],
 "metadata": {
  "kernelspec": {
   "display_name": "ex1",
   "language": "python",
   "name": "python3"
  },
  "language_info": {
   "codemirror_mode": {
    "name": "ipython",
    "version": 3
   },
   "file_extension": ".py",
   "mimetype": "text/x-python",
   "name": "python",
   "nbconvert_exporter": "python",
   "pygments_lexer": "ipython3",
   "version": "3.11.7"
  }
 },
 "nbformat": 4,
 "nbformat_minor": 2
}
