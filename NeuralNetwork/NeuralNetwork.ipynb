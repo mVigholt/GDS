{
 "cells": [
  {
   "cell_type": "code",
   "execution_count": 2,
   "metadata": {},
   "outputs": [],
   "source": [
    "import numpy as np\n",
    "import pandas as pd\n",
    "from collections import Counter\n",
    "import matplotlib as mpl\n",
    "from sklearn.neural_network import MLPClassifier\n",
    "from sklearn.model_selection import train_test_split\n",
    "from sklearn.metrics import mean_squared_error\n",
    "from sklearn.metrics import accuracy_score"
   ]
  },
  {
   "cell_type": "code",
   "execution_count": 3,
   "metadata": {},
   "outputs": [],
   "source": [
    "def XyData(csv_path, X_path, y_path):\n",
    "    usecols = ['content', 'type']\n",
    "    df = pd.read_csv(csv_path, usecols=usecols)\n",
    "    \n",
    "    df.dropna(subset=['type'], inplace = True) #remove empty labels\n",
    "    df = df.loc[df.content.apply(type) == str]\n",
    "    #df.drop(df[df['type'] == 'unknown'].index, inplace=True) #remove 'unknown' label\n",
    "    df.reset_index(drop=True, inplace=True) #reset index\n",
    "\n",
    "    l = ['fake']\n",
    "    y = pd.DataFrame({'result' : np.where(df['type'].isin(l), 1, 0)}) #[1, 0] = [fake, not fake]\n",
    "\n",
    "    unique_words = Counter()\n",
    "    df['content'].str.split().apply(unique_words.update)\n",
    "    unique_words.subtract(unique_words) #keep keys, reset count\n",
    " \n",
    "    frames = []  \n",
    "    for row in range(len(df)):\n",
    "        words = unique_words.copy()\n",
    "        words.update(df.loc[row,\"content\"].split())\n",
    "        frames += [pd.DataFrame(words, index=[row])]\n",
    "    X = pd.concat(frames)\n",
    "         \n",
    "    X.to_csv(X_path, index=False)\n",
    "    y.to_csv(y_path, index=False)\n",
    "\n",
    "XyData(\"../cleaned_news_sample.csv\", \"X.csv\", \"y.csv\")"
   ]
  },
  {
   "cell_type": "code",
   "execution_count": 4,
   "metadata": {},
   "outputs": [],
   "source": [
    "def Split(X_path, y_path):\n",
    "    df_X = pd.read_csv(X_path)\n",
    "    df_y = pd.read_csv(y_path)\n",
    "    X_train, X_test, y_train, y_test = train_test_split(df_X,\n",
    "                                                        df_y,\n",
    "                                                        train_size = 0.8,\n",
    "                                                        random_state = 0,\n",
    "                                                        shuffle = False,\n",
    "                                                        stratify = None)\n",
    "\n",
    "    X_test, X_val, y_test, y_val = train_test_split(X_test,\n",
    "                                                    y_test,\n",
    "                                                    test_size= 0.5,\n",
    "                                                    random_state = 0,\n",
    "                                                    shuffle = False,\n",
    "                                                    stratify = None)\n",
    "\n",
    "    return X_train, X_test, X_val, y_train, y_test, y_val"
   ]
  },
  {
   "cell_type": "code",
   "execution_count": 8,
   "metadata": {},
   "outputs": [],
   "source": [
    "# Split data into Train, Test and Validation\n",
    "X_train, X_test, X_val, y_train, y_test, y_val = Split('X.csv', 'y.csv')\n",
    "\n",
    "clf = MLPClassifier(solver='lbfgs', alpha=1e-5,\n",
    "                     hidden_layer_sizes=(4, 1), random_state=1)\n",
    "\n",
    "fit = clf.fit(X_train, y_train['result'])\n",
    "\n",
    "pred = fit.predict(X_test)\n",
    "\n",
    "mse = mean_squared_error(y_test['result'], pred)\n",
    "print(\"MLPClassifier MSE: \", mse)\n",
    "acc = accuracy_score(y_test['result'], pred)\n",
    "print(\"MLPClassifier accuracy: \", acc)\n",
    "print(accuracy_score(y_val['result'], pred))\n"
   ]
  }
 ],
 "metadata": {
  "kernelspec": {
   "display_name": "ex1",
   "language": "python",
   "name": "python3"
  },
  "language_info": {
   "codemirror_mode": {
    "name": "ipython",
    "version": 3
   },
   "file_extension": ".py",
   "mimetype": "text/x-python",
   "name": "python",
   "nbconvert_exporter": "python",
   "pygments_lexer": "ipython3",
   "version": "3.11.7"
  }
 },
 "nbformat": 4,
 "nbformat_minor": 2
}
