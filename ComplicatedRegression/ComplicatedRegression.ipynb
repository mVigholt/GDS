{
 "cells": [
  {
   "cell_type": "code",
   "execution_count": 10,
   "metadata": {},
   "outputs": [],
   "source": [
    "import pandas as pd\n",
    "import re\n",
    "import numpy as np\n",
    "from collections import Counter\n",
    "from sklearn.model_selection import train_test_split\n",
    "from sklearn.linear_model import LogisticRegression, LinearRegression\n",
    "from sklearn.feature_extraction.text import TfidfVectorizer\n",
    "from sklearn.neural_network import MLPClassifier\n",
    "from sklearn.preprocessing import StandardScaler\n",
    "from scipy.sparse import hstack\n",
    "from sklearn.svm import LinearSVC\n",
    "from sklearn.metrics import mean_squared_error\n",
    "from sklearn.metrics import accuracy_score"
   ]
  },
  {
   "cell_type": "code",
   "execution_count": 11,
   "metadata": {},
   "outputs": [],
   "source": [
    "def GenerateXY(csv):\n",
    "  # prepare dataframe\n",
    "  df = pd.read_csv(csv)\n",
    "  df.dropna(subset=['type'], inplace = True)\n",
    "  df.drop(df[df['type'] == 'unknown'].index, inplace=True)\n",
    "  df.reset_index(drop=True, inplace=True)\n",
    "  \n",
    "  # target values\n",
    "  y = pd.DataFrame({'result' : np.where(df['type'] == 'fake', 1, 0)}) #[1, 0] = [fake, not fake]\n",
    "  \n",
    "  words = Counter()\n",
    "  words.update(\"num\".split())\n",
    "  words.update(\"date\".split())\n",
    "  words.update(\"url\".split())\n",
    "  words.subtract(words)\n",
    "  \n",
    "  frames = []\n",
    "  for i in range(len(df)):\n",
    "    wordcopy = words.copy()\n",
    "    for word in df.loc[i, \"content\"].split():\n",
    "      if word == \"<num>\":\n",
    "        wordcopy.update(\"num\".split())\n",
    "      if word == \"<url>\":\n",
    "        wordcopy.update(\"url\".split())\n",
    "      if word == \"date\":\n",
    "        wordcopy.update(\"date\".split())\n",
    "    frames += [pd.DataFrame(dict(wordcopy), index=[i])]\n",
    "    \n",
    "    \n",
    "  # concat frames generated in loop\n",
    "  X = pd.concat(frames)\n",
    "\n",
    "  return X, y\n",
    "  \n",
    "X, y = GenerateXY(\"../cleaned_995.csv\")\n",
    "\n",
    "X.to_csv('X.csv', index=False)\n",
    "y.to_csv('y.csv', index=False)"
   ]
  },
  {
   "cell_type": "code",
   "execution_count": 12,
   "metadata": {},
   "outputs": [],
   "source": [
    "def Split(X_path, y_path):\n",
    "    # usecols = ['content', 'type']\n",
    "    # df = pd.read_csv(csv_path, usecols=usecols)\n",
    "    \n",
    "    df_X = pd.read_csv(X_path)\n",
    "    df_y = pd.read_csv(y_path)\n",
    "    X_train, X_test, y_train, y_test = train_test_split(df_X,\n",
    "                                                        df_y,\n",
    "                                                        train_size = 0.8,\n",
    "                                                        random_state = 0,\n",
    "                                                        shuffle = False,\n",
    "                                                        stratify = None)\n",
    "\n",
    "    X_test, X_val, y_test, y_val = train_test_split(X_test,\n",
    "                                                    y_test,\n",
    "                                                    test_size= 0.5,\n",
    "                                                    random_state = 0,\n",
    "                                                    shuffle = False,\n",
    "                                                    stratify = None)\n",
    "\n",
    "    return X_train, X_test, X_val, y_train, y_test, y_val\n",
    "\n",
    "X_train, X_test, X_val, y_train, y_test, y_val = Split('X.csv', 'y.csv')"
   ]
  },
  {
   "cell_type": "code",
   "execution_count": 13,
   "metadata": {},
   "outputs": [
    {
     "name": "stdout",
     "output_type": "stream",
     "text": [
      "LinearRegression MSE:  0.15536105032822758\n",
      "LinearRegression accuracy:  0.8446389496717724\n"
     ]
    }
   ],
   "source": [
    "model = LinearRegression()\n",
    "fit = model.fit(X_train, y_train['result'])\n",
    "y_pred = fit.predict(X_test)\n",
    "y_pred = [round(x,0) for x in y_pred]\n",
    "\n",
    "mse = mean_squared_error(y_test['result'], y_pred)\n",
    "print(\"LinearRegression MSE: \", mse)\n",
    "acc = accuracy_score(y_test['result'], y_pred)\n",
    "print(\"LinearRegression accuracy: \", acc)"
   ]
  },
  {
   "cell_type": "code",
   "execution_count": 14,
   "metadata": {},
   "outputs": [
    {
     "name": "stdout",
     "output_type": "stream",
     "text": [
      "LinearRegression MSE:  0.16301969365426697\n",
      "LinearRegression accuracy:  0.8369803063457331\n"
     ]
    }
   ],
   "source": [
    "model = LogisticRegression(random_state=0, max_iter=1000)\n",
    "fit = model.fit(X_train, y_train['result'])\n",
    "y_pred = fit.predict(X_test)\n",
    "y_pred = [round(x,0) for x in y_pred]\n",
    "\n",
    "mse = mean_squared_error(y_test['result'], y_pred)\n",
    "print(\"LinearRegression MSE: \", mse)\n",
    "acc = accuracy_score(y_test['result'], y_pred)\n",
    "print(\"LinearRegression accuracy: \", acc)"
   ]
  },
  {
   "cell_type": "code",
   "execution_count": 15,
   "metadata": {},
   "outputs": [
    {
     "name": "stdout",
     "output_type": "stream",
     "text": [
      "LinearSVC accuracy:  0.7133479212253829\n"
     ]
    },
    {
     "name": "stderr",
     "output_type": "stream",
     "text": [
      "/home/mvq/anaconda3/envs/ex1/lib/python3.11/site-packages/sklearn/svm/_classes.py:31: FutureWarning: The default value of `dual` will change from `True` to `'auto'` in 1.5. Set the value of `dual` explicitly to suppress the warning.\n",
      "  warnings.warn(\n",
      "/home/mvq/anaconda3/envs/ex1/lib/python3.11/site-packages/sklearn/svm/_base.py:1237: ConvergenceWarning: Liblinear failed to converge, increase the number of iterations.\n",
      "  warnings.warn(\n"
     ]
    }
   ],
   "source": [
    "model = LinearSVC(max_iter=100)\n",
    "model.fit(X_train, y_train['result'])\n",
    "\n",
    "pred = model.predict(X_test)\n",
    "acc = accuracy_score(y_test['result'], pred)\n",
    "\n",
    "print(\"LinearSVC accuracy: \", acc)\n"
   ]
  },
  {
   "cell_type": "code",
   "execution_count": 16,
   "metadata": {},
   "outputs": [
    {
     "name": "stdout",
     "output_type": "stream",
     "text": [
      "0.8687089715536105\n"
     ]
    }
   ],
   "source": [
    "clf = MLPClassifier(solver='lbfgs', alpha=1e-5,\n",
    "                     hidden_layer_sizes=(4, 1), random_state=1)\n",
    "\n",
    "fit = clf.fit(X_train, y_train['result'])\n",
    "\n",
    "pred = fit.predict(X_test)\n",
    "\n",
    "acc = accuracy_score(y_test['result'], pred)\n",
    "\n",
    "print(acc)\n"
   ]
  },
  {
   "cell_type": "code",
   "execution_count": 17,
   "metadata": {},
   "outputs": [
    {
     "name": "stdout",
     "output_type": "stream",
     "text": [
      "MLPClassifier MSE:  0.16301969365426697\n",
      "MLPClassifier accuracy:  0.8698030634573304\n"
     ]
    }
   ],
   "source": [
    "# Standardize features by removing the mean and scaling to unit variance\n",
    "scaler = StandardScaler()\n",
    "X_train = scaler.fit_transform(X_train)\n",
    "X_test = scaler.transform(X_test)\n",
    "    \n",
    "mlp_clf = MLPClassifier(hidden_layer_sizes=(100, 100), max_iter=5000, activation='relu', solver='adam', random_state=42)\n",
    "\n",
    "fit = mlp_clf.fit(X_train, y_train['result'])\n",
    "\n",
    "pred = fit.predict(X_test)\n",
    "\n",
    "acc = accuracy_score(y_test['result'], pred)\n",
    "\n",
    "# mse = mean_squared_error(y_test['result'], pred)\n",
    "print(\"MLPClassifier MSE: \", mse)\n",
    "print(\"MLPClassifier accuracy: \", acc)\n"
   ]
  }
 ],
 "metadata": {
  "kernelspec": {
   "display_name": "ex1",
   "language": "python",
   "name": "python3"
  },
  "language_info": {
   "codemirror_mode": {
    "name": "ipython",
    "version": 3
   },
   "file_extension": ".py",
   "mimetype": "text/x-python",
   "name": "python",
   "nbconvert_exporter": "python",
   "pygments_lexer": "ipython3",
   "version": "3.11.7"
  }
 },
 "nbformat": 4,
 "nbformat_minor": 2
}
